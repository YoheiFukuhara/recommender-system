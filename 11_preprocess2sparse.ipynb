{
  "nbformat": 4,
  "nbformat_minor": 0,
  "metadata": {
    "colab": {
      "name": "11.preprocess2sparse.ipynb",
      "provenance": [],
      "collapsed_sections": [],
      "authorship_tag": "ABX9TyNvpUfnHvgCw8icVGRZh9Yq",
      "include_colab_link": true
    },
    "kernelspec": {
      "name": "python3",
      "display_name": "Python 3"
    },
    "language_info": {
      "name": "python"
    }
  },
  "cells": [
    {
      "cell_type": "markdown",
      "metadata": {
        "id": "view-in-github",
        "colab_type": "text"
      },
      "source": [
        "<a href=\"https://colab.research.google.com/github/YoheiFukuhara/recommender-system/blob/main/11_preprocess2sparse.ipynb\" target=\"_parent\"><img src=\"https://colab.research.google.com/assets/colab-badge.svg\" alt=\"Open In Colab\"/></a>"
      ]
    },
    {
      "cell_type": "code",
      "metadata": {
        "colab": {
          "base_uri": "https://localhost:8080/"
        },
        "id": "5w7mqKgbMgFr",
        "outputId": "1882d135-3224-4fbf-df64-28b6f1237ba2"
      },
      "source": [
        "import pickle\n",
        "\n",
        "import pandas as pd\n",
        "from google.colab import drive\n",
        "from scipy.sparse import lil_matrix, csr_matrix, save_npz, load_npz\n",
        "from sklearn.model_selection import train_test_split\n",
        "\n",
        "drive.mount('/content/drive')"
      ],
      "execution_count": 1,
      "outputs": [
        {
          "output_type": "stream",
          "name": "stdout",
          "text": [
            "Drive already mounted at /content/drive; to attempt to forcibly remount, call drive.mount(\"/content/drive\", force_remount=True).\n"
          ]
        }
      ]
    },
    {
      "cell_type": "code",
      "metadata": {
        "id": "TrP3zLeiMqox",
        "colab": {
          "base_uri": "https://localhost:8080/"
        },
        "outputId": "a7eab4a4-628f-4733-8fab-4d447665a127"
      },
      "source": [
        "BASE_PATH = '/content/drive/MyDrive/ColabNotebooks/ML/Recommend/output/'\n",
        "df = pd.read_csv(BASE_PATH+'very_small_rating.csv')\n",
        "df.info()"
      ],
      "execution_count": 2,
      "outputs": [
        {
          "output_type": "stream",
          "name": "stdout",
          "text": [
            "<class 'pandas.core.frame.DataFrame'>\n",
            "RangeIndex: 1982718 entries, 0 to 1982717\n",
            "Data columns (total 4 columns):\n",
            " #   Column     Dtype  \n",
            "---  ------     -----  \n",
            " 0   userId     int64  \n",
            " 1   movieId    int64  \n",
            " 2   rating     float64\n",
            " 3   movie_idx  int64  \n",
            "dtypes: float64(1), int64(3)\n",
            "memory usage: 60.5 MB\n"
          ]
        }
      ]
    },
    {
      "cell_type": "code",
      "source": [
        "N = df.userId.max() + 1 # number of users\n",
        "M = df.movie_idx.max() + 1 # number of movies"
      ],
      "metadata": {
        "id": "klFBOOzs26nM"
      },
      "execution_count": 3,
      "outputs": []
    },
    {
      "cell_type": "code",
      "source": [
        "df_train, df_test = train_test_split(df, train_size=0.8, random_state=42)"
      ],
      "metadata": {
        "id": "xqWrd2uU25h4"
      },
      "execution_count": 4,
      "outputs": []
    },
    {
      "cell_type": "code",
      "metadata": {
        "id": "OBjsPoJBM-0i",
        "colab": {
          "base_uri": "https://localhost:8080/"
        },
        "outputId": "55262a90-4c81-401e-df6d-0c42b1383dde"
      },
      "source": [
        "A = lil_matrix((N, M))\n",
        "print(\"Calling: update_train\")\n",
        "count = 0"
      ],
      "execution_count": 5,
      "outputs": [
        {
          "output_type": "stream",
          "name": "stdout",
          "text": [
            "Calling: update_train\n"
          ]
        }
      ]
    },
    {
      "cell_type": "code",
      "metadata": {
        "id": "JIKGfbBMN_jY",
        "colab": {
          "base_uri": "https://localhost:8080/"
        },
        "outputId": "2ca47dfd-cc21-41a5-f96b-1c560b48c831"
      },
      "source": [
        "%%time\n",
        "def update_train(row):\n",
        "    global count\n",
        "    count += 1\n",
        "    if count % 100000 == 0:\n",
        "        print(\"processed: %.3f\" % (float(count)/len(df)*0.8)) # 多分間違っている\n",
        "\n",
        "    i = int(row.userId)\n",
        "    j = int(row.movie_idx)\n",
        "    A[i,j] = row.rating\n",
        "df_train.apply(update_train, axis=1)"
      ],
      "execution_count": 6,
      "outputs": [
        {
          "output_type": "stream",
          "name": "stdout",
          "text": [
            "processed: 0.040\n",
            "processed: 0.081\n",
            "processed: 0.121\n",
            "processed: 0.161\n",
            "processed: 0.202\n",
            "processed: 0.242\n",
            "processed: 0.282\n",
            "processed: 0.323\n",
            "processed: 0.363\n",
            "processed: 0.403\n",
            "processed: 0.444\n",
            "processed: 0.484\n",
            "processed: 0.525\n",
            "processed: 0.565\n",
            "processed: 0.605\n",
            "CPU times: user 56.2 s, sys: 922 ms, total: 57.1 s\n",
            "Wall time: 57.2 s\n"
          ]
        }
      ]
    },
    {
      "cell_type": "code",
      "metadata": {
        "id": "TPZJFOT6OH39"
      },
      "source": [
        "save_npz(BASE_PATH+\"Atrain.npz\", A.tocsr())"
      ],
      "execution_count": 7,
      "outputs": []
    },
    {
      "cell_type": "code",
      "metadata": {
        "colab": {
          "base_uri": "https://localhost:8080/"
        },
        "id": "d-ALa3rLPtiX",
        "outputId": "f66d1291-62d9-4677-a863-7fb16c2a5956"
      },
      "source": [
        "# test ratings dictionary\n",
        "A_test = lil_matrix((N, M))\n",
        "print(\"Calling: update_test\")\n",
        "count = 0"
      ],
      "execution_count": 8,
      "outputs": [
        {
          "output_type": "stream",
          "name": "stdout",
          "text": [
            "Calling: update_test\n"
          ]
        }
      ]
    },
    {
      "cell_type": "code",
      "metadata": {
        "id": "tFTNtJqzQ5il",
        "colab": {
          "base_uri": "https://localhost:8080/"
        },
        "outputId": "fac62b28-066b-4588-ac91-21e0d14b66f0"
      },
      "source": [
        "%%time\n",
        "def update_test(row):\n",
        "    global count\n",
        "    count += 1\n",
        "    if count % 100000 == 0:\n",
        "        print(\"processed: %.3f\" % (float(count)/len(df_test)))\n",
        "\n",
        "    i = int(row.userId)\n",
        "    j = int(row.movie_idx)\n",
        "    A_test[i,j] = row.rating\n",
        "df_test.apply(update_test, axis=1)"
      ],
      "execution_count": 9,
      "outputs": [
        {
          "output_type": "stream",
          "name": "stdout",
          "text": [
            "processed: 0.252\n",
            "processed: 0.504\n",
            "processed: 0.757\n",
            "CPU times: user 14 s, sys: 84.9 ms, total: 14.1 s\n",
            "Wall time: 14.1 s\n"
          ]
        }
      ]
    },
    {
      "cell_type": "code",
      "metadata": {
        "id": "bkDS9ax1UHUs"
      },
      "source": [
        "save_npz(BASE_PATH+\"Atest.npz\", A_test.tocsr())"
      ],
      "execution_count": 10,
      "outputs": []
    },
    {
      "cell_type": "code",
      "source": [
        ""
      ],
      "metadata": {
        "id": "AgcUSvpT700G"
      },
      "execution_count": 10,
      "outputs": []
    }
  ]
}