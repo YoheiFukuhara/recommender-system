{
  "nbformat": 4,
  "nbformat_minor": 0,
  "metadata": {
    "colab": {
      "name": "02.preprocess_shrink.ipynb",
      "provenance": [],
      "collapsed_sections": [],
      "authorship_tag": "ABX9TyOSQYgNfHkDKTPNfQIEHmXN",
      "include_colab_link": true
    },
    "kernelspec": {
      "name": "python3",
      "display_name": "Python 3"
    },
    "language_info": {
      "name": "python"
    }
  },
  "cells": [
    {
      "cell_type": "markdown",
      "metadata": {
        "id": "view-in-github",
        "colab_type": "text"
      },
      "source": [
        "<a href=\"https://colab.research.google.com/github/YoheiFukuhara/recommender-system/blob/main/02_preprocess_shrink.ipynb\" target=\"_parent\"><img src=\"https://colab.research.google.com/assets/colab-badge.svg\" alt=\"Open In Colab\"/></a>"
      ]
    },
    {
      "cell_type": "code",
      "metadata": {
        "colab": {
          "base_uri": "https://localhost:8080/"
        },
        "id": "3OeDYnfD5hA2",
        "outputId": "f8ca2226-fa95-4baf-9e73-3cd17e62c215"
      },
      "source": [
        "from collections import Counter\n",
        "\n",
        "import pandas as pd\n",
        "from google.colab import drive\n",
        "\n",
        "drive.mount('/content/drive')"
      ],
      "execution_count": null,
      "outputs": [
        {
          "output_type": "stream",
          "name": "stdout",
          "text": [
            "Mounted at /content/drive\n"
          ]
        }
      ]
    },
    {
      "cell_type": "code",
      "metadata": {
        "id": "o5QM_u_v5y_E"
      },
      "source": [
        "BASE_PATH = '/content/drive/MyDrive/ColabNotebooks/ML/Recommend/output/'\n",
        "df = pd.read_csv(BASE_PATH+'edited_rating.csv')"
      ],
      "execution_count": null,
      "outputs": []
    },
    {
      "cell_type": "code",
      "metadata": {
        "colab": {
          "base_uri": "https://localhost:8080/",
          "height": 898
        },
        "id": "cy68d0046Ipe",
        "outputId": "0a1d42d5-3f26-46e8-d6d1-5bde06a018ce"
      },
      "source": [
        "pd.options.display.float_format = '{:.2f}'.format\n",
        "df.info()\n",
        "display(df.describe())\n",
        "display(df)"
      ],
      "execution_count": null,
      "outputs": [
        {
          "output_type": "stream",
          "name": "stdout",
          "text": [
            "<class 'pandas.core.frame.DataFrame'>\n",
            "RangeIndex: 20000263 entries, 0 to 20000262\n",
            "Data columns (total 4 columns):\n",
            " #   Column     Dtype  \n",
            "---  ------     -----  \n",
            " 0   userId     int64  \n",
            " 1   movieId    int64  \n",
            " 2   rating     float64\n",
            " 3   movie_idx  int64  \n",
            "dtypes: float64(1), int64(3)\n",
            "memory usage: 610.4 MB\n"
          ]
        },
        {
          "output_type": "display_data",
          "data": {
            "text/html": [
              "<div>\n",
              "<style scoped>\n",
              "    .dataframe tbody tr th:only-of-type {\n",
              "        vertical-align: middle;\n",
              "    }\n",
              "\n",
              "    .dataframe tbody tr th {\n",
              "        vertical-align: top;\n",
              "    }\n",
              "\n",
              "    .dataframe thead th {\n",
              "        text-align: right;\n",
              "    }\n",
              "</style>\n",
              "<table border=\"1\" class=\"dataframe\">\n",
              "  <thead>\n",
              "    <tr style=\"text-align: right;\">\n",
              "      <th></th>\n",
              "      <th>userId</th>\n",
              "      <th>movieId</th>\n",
              "      <th>rating</th>\n",
              "      <th>movie_idx</th>\n",
              "    </tr>\n",
              "  </thead>\n",
              "  <tbody>\n",
              "    <tr>\n",
              "      <th>count</th>\n",
              "      <td>20000263.00</td>\n",
              "      <td>20000263.00</td>\n",
              "      <td>20000263.00</td>\n",
              "      <td>20000263.00</td>\n",
              "    </tr>\n",
              "    <tr>\n",
              "      <th>mean</th>\n",
              "      <td>69044.87</td>\n",
              "      <td>9041.57</td>\n",
              "      <td>3.53</td>\n",
              "      <td>3612.60</td>\n",
              "    </tr>\n",
              "    <tr>\n",
              "      <th>std</th>\n",
              "      <td>40038.63</td>\n",
              "      <td>19789.48</td>\n",
              "      <td>1.05</td>\n",
              "      <td>4154.44</td>\n",
              "    </tr>\n",
              "    <tr>\n",
              "      <th>min</th>\n",
              "      <td>0.00</td>\n",
              "      <td>1.00</td>\n",
              "      <td>0.50</td>\n",
              "      <td>0.00</td>\n",
              "    </tr>\n",
              "    <tr>\n",
              "      <th>25%</th>\n",
              "      <td>34394.00</td>\n",
              "      <td>902.00</td>\n",
              "      <td>3.00</td>\n",
              "      <td>887.00</td>\n",
              "    </tr>\n",
              "    <tr>\n",
              "      <th>50%</th>\n",
              "      <td>69140.00</td>\n",
              "      <td>2167.00</td>\n",
              "      <td>3.50</td>\n",
              "      <td>2085.00</td>\n",
              "    </tr>\n",
              "    <tr>\n",
              "      <th>75%</th>\n",
              "      <td>103636.00</td>\n",
              "      <td>4770.00</td>\n",
              "      <td>4.00</td>\n",
              "      <td>4677.00</td>\n",
              "    </tr>\n",
              "    <tr>\n",
              "      <th>max</th>\n",
              "      <td>138492.00</td>\n",
              "      <td>131262.00</td>\n",
              "      <td>5.00</td>\n",
              "      <td>26743.00</td>\n",
              "    </tr>\n",
              "  </tbody>\n",
              "</table>\n",
              "</div>"
            ],
            "text/plain": [
              "           userId     movieId      rating   movie_idx\n",
              "count 20000263.00 20000263.00 20000263.00 20000263.00\n",
              "mean     69044.87     9041.57        3.53     3612.60\n",
              "std      40038.63    19789.48        1.05     4154.44\n",
              "min          0.00        1.00        0.50        0.00\n",
              "25%      34394.00      902.00        3.00      887.00\n",
              "50%      69140.00     2167.00        3.50     2085.00\n",
              "75%     103636.00     4770.00        4.00     4677.00\n",
              "max     138492.00   131262.00        5.00    26743.00"
            ]
          },
          "metadata": {}
        },
        {
          "output_type": "display_data",
          "data": {
            "text/html": [
              "<div>\n",
              "<style scoped>\n",
              "    .dataframe tbody tr th:only-of-type {\n",
              "        vertical-align: middle;\n",
              "    }\n",
              "\n",
              "    .dataframe tbody tr th {\n",
              "        vertical-align: top;\n",
              "    }\n",
              "\n",
              "    .dataframe thead th {\n",
              "        text-align: right;\n",
              "    }\n",
              "</style>\n",
              "<table border=\"1\" class=\"dataframe\">\n",
              "  <thead>\n",
              "    <tr style=\"text-align: right;\">\n",
              "      <th></th>\n",
              "      <th>userId</th>\n",
              "      <th>movieId</th>\n",
              "      <th>rating</th>\n",
              "      <th>movie_idx</th>\n",
              "    </tr>\n",
              "  </thead>\n",
              "  <tbody>\n",
              "    <tr>\n",
              "      <th>0</th>\n",
              "      <td>0</td>\n",
              "      <td>2</td>\n",
              "      <td>3.50</td>\n",
              "      <td>2</td>\n",
              "    </tr>\n",
              "    <tr>\n",
              "      <th>1</th>\n",
              "      <td>0</td>\n",
              "      <td>29</td>\n",
              "      <td>3.50</td>\n",
              "      <td>29</td>\n",
              "    </tr>\n",
              "    <tr>\n",
              "      <th>2</th>\n",
              "      <td>0</td>\n",
              "      <td>32</td>\n",
              "      <td>3.50</td>\n",
              "      <td>32</td>\n",
              "    </tr>\n",
              "    <tr>\n",
              "      <th>3</th>\n",
              "      <td>0</td>\n",
              "      <td>47</td>\n",
              "      <td>3.50</td>\n",
              "      <td>47</td>\n",
              "    </tr>\n",
              "    <tr>\n",
              "      <th>4</th>\n",
              "      <td>0</td>\n",
              "      <td>50</td>\n",
              "      <td>3.50</td>\n",
              "      <td>50</td>\n",
              "    </tr>\n",
              "    <tr>\n",
              "      <th>...</th>\n",
              "      <td>...</td>\n",
              "      <td>...</td>\n",
              "      <td>...</td>\n",
              "      <td>...</td>\n",
              "    </tr>\n",
              "    <tr>\n",
              "      <th>20000258</th>\n",
              "      <td>138492</td>\n",
              "      <td>68954</td>\n",
              "      <td>4.50</td>\n",
              "      <td>13821</td>\n",
              "    </tr>\n",
              "    <tr>\n",
              "      <th>20000259</th>\n",
              "      <td>138492</td>\n",
              "      <td>69526</td>\n",
              "      <td>4.50</td>\n",
              "      <td>13929</td>\n",
              "    </tr>\n",
              "    <tr>\n",
              "      <th>20000260</th>\n",
              "      <td>138492</td>\n",
              "      <td>69644</td>\n",
              "      <td>3.00</td>\n",
              "      <td>13942</td>\n",
              "    </tr>\n",
              "    <tr>\n",
              "      <th>20000261</th>\n",
              "      <td>138492</td>\n",
              "      <td>70286</td>\n",
              "      <td>5.00</td>\n",
              "      <td>14060</td>\n",
              "    </tr>\n",
              "    <tr>\n",
              "      <th>20000262</th>\n",
              "      <td>138492</td>\n",
              "      <td>71619</td>\n",
              "      <td>2.50</td>\n",
              "      <td>14344</td>\n",
              "    </tr>\n",
              "  </tbody>\n",
              "</table>\n",
              "<p>20000263 rows × 4 columns</p>\n",
              "</div>"
            ],
            "text/plain": [
              "          userId  movieId  rating  movie_idx\n",
              "0              0        2    3.50          2\n",
              "1              0       29    3.50         29\n",
              "2              0       32    3.50         32\n",
              "3              0       47    3.50         47\n",
              "4              0       50    3.50         50\n",
              "...          ...      ...     ...        ...\n",
              "20000258  138492    68954    4.50      13821\n",
              "20000259  138492    69526    4.50      13929\n",
              "20000260  138492    69644    3.00      13942\n",
              "20000261  138492    70286    5.00      14060\n",
              "20000262  138492    71619    2.50      14344\n",
              "\n",
              "[20000263 rows x 4 columns]"
            ]
          },
          "metadata": {}
        }
      ]
    },
    {
      "cell_type": "code",
      "metadata": {
        "colab": {
          "base_uri": "https://localhost:8080/"
        },
        "id": "FhOg4s4x6Mr0",
        "outputId": "fb468e13-f88a-4245-bbda-f61ba6ab3589"
      },
      "source": [
        "print(f'unique number of user id: {df.userId.nunique()}')\n",
        "print(f'unique number of movie id: {df.movie_idx.nunique()}')"
      ],
      "execution_count": null,
      "outputs": [
        {
          "output_type": "stream",
          "name": "stdout",
          "text": [
            "unique number of user id: 138493\n",
            "unique number of movie id: 26744\n"
          ]
        }
      ]
    },
    {
      "cell_type": "code",
      "metadata": {
        "colab": {
          "base_uri": "https://localhost:8080/"
        },
        "id": "YfUHiqmwCeza",
        "outputId": "2133abfe-8497-4da5-a1d0-82d7238bd794"
      },
      "source": [
        "%%time\n",
        "# number of users and movies to keep\n",
        "user_ids = [id for id, _ in Counter(df.userId).most_common(10000)]\n",
        "movie_ids = [id for id, _ in Counter(df.movie_idx).most_common(2000)]"
      ],
      "execution_count": null,
      "outputs": [
        {
          "output_type": "stream",
          "name": "stdout",
          "text": [
            "CPU times: user 8.4 s, sys: 28.8 ms, total: 8.43 s\n",
            "Wall time: 8.42 s\n"
          ]
        }
      ]
    },
    {
      "cell_type": "code",
      "metadata": {
        "colab": {
          "base_uri": "https://localhost:8080/",
          "height": 933
        },
        "id": "RjJMWG_xDRN5",
        "outputId": "7c5de9ab-c054-4337-af4a-8f70dea4ac08"
      },
      "source": [
        "%%time\n",
        "df_small = df[df.userId.isin(user_ids) & df.movie_idx.isin(movie_ids)].copy()\n",
        "df_small.info()\n",
        "display(df_small.describe())\n",
        "display(df_small)"
      ],
      "execution_count": null,
      "outputs": [
        {
          "output_type": "stream",
          "name": "stdout",
          "text": [
            "<class 'pandas.core.frame.DataFrame'>\n",
            "Int64Index: 5392025 entries, 960 to 19998296\n",
            "Data columns (total 4 columns):\n",
            " #   Column     Dtype  \n",
            "---  ------     -----  \n",
            " 0   userId     int64  \n",
            " 1   movieId    int64  \n",
            " 2   rating     float64\n",
            " 3   movie_idx  int64  \n",
            "dtypes: float64(1), int64(3)\n",
            "memory usage: 205.7 MB\n"
          ]
        },
        {
          "output_type": "display_data",
          "data": {
            "text/html": [
              "<div>\n",
              "<style scoped>\n",
              "    .dataframe tbody tr th:only-of-type {\n",
              "        vertical-align: middle;\n",
              "    }\n",
              "\n",
              "    .dataframe tbody tr th {\n",
              "        vertical-align: top;\n",
              "    }\n",
              "\n",
              "    .dataframe thead th {\n",
              "        text-align: right;\n",
              "    }\n",
              "</style>\n",
              "<table border=\"1\" class=\"dataframe\">\n",
              "  <thead>\n",
              "    <tr style=\"text-align: right;\">\n",
              "      <th></th>\n",
              "      <th>userId</th>\n",
              "      <th>movieId</th>\n",
              "      <th>rating</th>\n",
              "      <th>movie_idx</th>\n",
              "    </tr>\n",
              "  </thead>\n",
              "  <tbody>\n",
              "    <tr>\n",
              "      <th>count</th>\n",
              "      <td>5392025.00</td>\n",
              "      <td>5392025.00</td>\n",
              "      <td>5392025.00</td>\n",
              "      <td>5392025.00</td>\n",
              "    </tr>\n",
              "    <tr>\n",
              "      <th>mean</th>\n",
              "      <td>68832.46</td>\n",
              "      <td>6735.17</td>\n",
              "      <td>3.45</td>\n",
              "      <td>3265.44</td>\n",
              "    </tr>\n",
              "    <tr>\n",
              "      <th>std</th>\n",
              "      <td>40022.11</td>\n",
              "      <td>14985.54</td>\n",
              "      <td>1.02</td>\n",
              "      <td>3363.07</td>\n",
              "    </tr>\n",
              "    <tr>\n",
              "      <th>min</th>\n",
              "      <td>10.00</td>\n",
              "      <td>1.00</td>\n",
              "      <td>0.50</td>\n",
              "      <td>1.00</td>\n",
              "    </tr>\n",
              "    <tr>\n",
              "      <th>25%</th>\n",
              "      <td>34312.00</td>\n",
              "      <td>1172.00</td>\n",
              "      <td>3.00</td>\n",
              "      <td>1151.00</td>\n",
              "    </tr>\n",
              "    <tr>\n",
              "      <th>50%</th>\n",
              "      <td>69345.00</td>\n",
              "      <td>2289.00</td>\n",
              "      <td>3.50</td>\n",
              "      <td>2206.00</td>\n",
              "    </tr>\n",
              "    <tr>\n",
              "      <th>75%</th>\n",
              "      <td>103165.00</td>\n",
              "      <td>4033.00</td>\n",
              "      <td>4.00</td>\n",
              "      <td>3941.00</td>\n",
              "    </tr>\n",
              "    <tr>\n",
              "      <th>max</th>\n",
              "      <td>138473.00</td>\n",
              "      <td>109374.00</td>\n",
              "      <td>5.00</td>\n",
              "      <td>22831.00</td>\n",
              "    </tr>\n",
              "  </tbody>\n",
              "</table>\n",
              "</div>"
            ],
            "text/plain": [
              "          userId    movieId     rating  movie_idx\n",
              "count 5392025.00 5392025.00 5392025.00 5392025.00\n",
              "mean    68832.46    6735.17       3.45    3265.44\n",
              "std     40022.11   14985.54       1.02    3363.07\n",
              "min        10.00       1.00       0.50       1.00\n",
              "25%     34312.00    1172.00       3.00    1151.00\n",
              "50%     69345.00    2289.00       3.50    2206.00\n",
              "75%    103165.00    4033.00       4.00    3941.00\n",
              "max    138473.00  109374.00       5.00   22831.00"
            ]
          },
          "metadata": {}
        },
        {
          "output_type": "display_data",
          "data": {
            "text/html": [
              "<div>\n",
              "<style scoped>\n",
              "    .dataframe tbody tr th:only-of-type {\n",
              "        vertical-align: middle;\n",
              "    }\n",
              "\n",
              "    .dataframe tbody tr th {\n",
              "        vertical-align: top;\n",
              "    }\n",
              "\n",
              "    .dataframe thead th {\n",
              "        text-align: right;\n",
              "    }\n",
              "</style>\n",
              "<table border=\"1\" class=\"dataframe\">\n",
              "  <thead>\n",
              "    <tr style=\"text-align: right;\">\n",
              "      <th></th>\n",
              "      <th>userId</th>\n",
              "      <th>movieId</th>\n",
              "      <th>rating</th>\n",
              "      <th>movie_idx</th>\n",
              "    </tr>\n",
              "  </thead>\n",
              "  <tbody>\n",
              "    <tr>\n",
              "      <th>960</th>\n",
              "      <td>10</td>\n",
              "      <td>1</td>\n",
              "      <td>4.50</td>\n",
              "      <td>1</td>\n",
              "    </tr>\n",
              "    <tr>\n",
              "      <th>961</th>\n",
              "      <td>10</td>\n",
              "      <td>10</td>\n",
              "      <td>2.50</td>\n",
              "      <td>10</td>\n",
              "    </tr>\n",
              "    <tr>\n",
              "      <th>962</th>\n",
              "      <td>10</td>\n",
              "      <td>19</td>\n",
              "      <td>3.50</td>\n",
              "      <td>19</td>\n",
              "    </tr>\n",
              "    <tr>\n",
              "      <th>963</th>\n",
              "      <td>10</td>\n",
              "      <td>32</td>\n",
              "      <td>5.00</td>\n",
              "      <td>32</td>\n",
              "    </tr>\n",
              "    <tr>\n",
              "      <th>964</th>\n",
              "      <td>10</td>\n",
              "      <td>39</td>\n",
              "      <td>4.50</td>\n",
              "      <td>39</td>\n",
              "    </tr>\n",
              "    <tr>\n",
              "      <th>...</th>\n",
              "      <td>...</td>\n",
              "      <td>...</td>\n",
              "      <td>...</td>\n",
              "      <td>...</td>\n",
              "    </tr>\n",
              "    <tr>\n",
              "      <th>19998291</th>\n",
              "      <td>138473</td>\n",
              "      <td>4993</td>\n",
              "      <td>5.00</td>\n",
              "      <td>4900</td>\n",
              "    </tr>\n",
              "    <tr>\n",
              "      <th>19998292</th>\n",
              "      <td>138473</td>\n",
              "      <td>5349</td>\n",
              "      <td>3.00</td>\n",
              "      <td>5255</td>\n",
              "    </tr>\n",
              "    <tr>\n",
              "      <th>19998293</th>\n",
              "      <td>138473</td>\n",
              "      <td>5378</td>\n",
              "      <td>4.00</td>\n",
              "      <td>5284</td>\n",
              "    </tr>\n",
              "    <tr>\n",
              "      <th>19998295</th>\n",
              "      <td>138473</td>\n",
              "      <td>5449</td>\n",
              "      <td>4.00</td>\n",
              "      <td>5355</td>\n",
              "    </tr>\n",
              "    <tr>\n",
              "      <th>19998296</th>\n",
              "      <td>138473</td>\n",
              "      <td>5459</td>\n",
              "      <td>4.00</td>\n",
              "      <td>5365</td>\n",
              "    </tr>\n",
              "  </tbody>\n",
              "</table>\n",
              "<p>5392025 rows × 4 columns</p>\n",
              "</div>"
            ],
            "text/plain": [
              "          userId  movieId  rating  movie_idx\n",
              "960           10        1    4.50          1\n",
              "961           10       10    2.50         10\n",
              "962           10       19    3.50         19\n",
              "963           10       32    5.00         32\n",
              "964           10       39    4.50         39\n",
              "...          ...      ...     ...        ...\n",
              "19998291  138473     4993    5.00       4900\n",
              "19998292  138473     5349    3.00       5255\n",
              "19998293  138473     5378    4.00       5284\n",
              "19998295  138473     5449    4.00       5355\n",
              "19998296  138473     5459    4.00       5365\n",
              "\n",
              "[5392025 rows x 4 columns]"
            ]
          },
          "metadata": {}
        },
        {
          "output_type": "stream",
          "name": "stdout",
          "text": [
            "CPU times: user 4.14 s, sys: 20.4 ms, total: 4.16 s\n",
            "Wall time: 4.16 s\n"
          ]
        }
      ]
    },
    {
      "cell_type": "code",
      "metadata": {
        "colab": {
          "base_uri": "https://localhost:8080/"
        },
        "id": "UUMzhgBEDfoE",
        "outputId": "bc8d2c0f-ebb9-4bb9-a164-acec59aec2cb"
      },
      "source": [
        "def create_old_map(ids):\n",
        "    id_map = {}\n",
        "    for i, old in enumerate(ids):\n",
        "        id_map[old] = i\n",
        "    print(len(id_map))\n",
        "    return id_map\n",
        "\n",
        "new_user_id_map = create_old_map(user_ids)\n",
        "new_movie_id_map = create_old_map(movie_ids)"
      ],
      "execution_count": null,
      "outputs": [
        {
          "output_type": "stream",
          "name": "stdout",
          "text": [
            "10000\n",
            "2000\n"
          ]
        }
      ]
    },
    {
      "cell_type": "code",
      "metadata": {
        "colab": {
          "base_uri": "https://localhost:8080/"
        },
        "id": "ItT830qDHPtw",
        "outputId": "ef5b7139-75df-424a-f210-ae27cd5481e2"
      },
      "source": [
        "%%time\n",
        "df_small.loc[:,'userId'] = df_small.userId.map(lambda x: new_user_id_map[x])\n",
        "df_small.loc[:,'movie_idx'] = df_small.movie_idx.map(lambda x: new_movie_id_map[x])"
      ],
      "execution_count": null,
      "outputs": [
        {
          "output_type": "stream",
          "name": "stdout",
          "text": [
            "CPU times: user 4.71 s, sys: 286 ms, total: 5 s\n",
            "Wall time: 4.97 s\n"
          ]
        }
      ]
    },
    {
      "cell_type": "code",
      "metadata": {
        "colab": {
          "base_uri": "https://localhost:8080/",
          "height": 300
        },
        "id": "kT311dvaHwEd",
        "outputId": "1b018af0-4f4f-4198-ba93-9aa6b5668e64"
      },
      "source": [
        "display(df_small.describe())"
      ],
      "execution_count": null,
      "outputs": [
        {
          "output_type": "display_data",
          "data": {
            "text/html": [
              "<div>\n",
              "<style scoped>\n",
              "    .dataframe tbody tr th:only-of-type {\n",
              "        vertical-align: middle;\n",
              "    }\n",
              "\n",
              "    .dataframe tbody tr th {\n",
              "        vertical-align: top;\n",
              "    }\n",
              "\n",
              "    .dataframe thead th {\n",
              "        text-align: right;\n",
              "    }\n",
              "</style>\n",
              "<table border=\"1\" class=\"dataframe\">\n",
              "  <thead>\n",
              "    <tr style=\"text-align: right;\">\n",
              "      <th></th>\n",
              "      <th>userId</th>\n",
              "      <th>movieId</th>\n",
              "      <th>rating</th>\n",
              "      <th>movie_idx</th>\n",
              "    </tr>\n",
              "  </thead>\n",
              "  <tbody>\n",
              "    <tr>\n",
              "      <th>count</th>\n",
              "      <td>5392025.00</td>\n",
              "      <td>5392025.00</td>\n",
              "      <td>5392025.00</td>\n",
              "      <td>5392025.00</td>\n",
              "    </tr>\n",
              "    <tr>\n",
              "      <th>mean</th>\n",
              "      <td>4064.70</td>\n",
              "      <td>6735.17</td>\n",
              "      <td>3.45</td>\n",
              "      <td>686.57</td>\n",
              "    </tr>\n",
              "    <tr>\n",
              "      <th>std</th>\n",
              "      <td>2904.37</td>\n",
              "      <td>14985.54</td>\n",
              "      <td>1.02</td>\n",
              "      <td>549.58</td>\n",
              "    </tr>\n",
              "    <tr>\n",
              "      <th>min</th>\n",
              "      <td>0.00</td>\n",
              "      <td>1.00</td>\n",
              "      <td>0.50</td>\n",
              "      <td>0.00</td>\n",
              "    </tr>\n",
              "    <tr>\n",
              "      <th>25%</th>\n",
              "      <td>1471.00</td>\n",
              "      <td>1172.00</td>\n",
              "      <td>3.00</td>\n",
              "      <td>211.00</td>\n",
              "    </tr>\n",
              "    <tr>\n",
              "      <th>50%</th>\n",
              "      <td>3614.00</td>\n",
              "      <td>2289.00</td>\n",
              "      <td>3.50</td>\n",
              "      <td>552.00</td>\n",
              "    </tr>\n",
              "    <tr>\n",
              "      <th>75%</th>\n",
              "      <td>6432.00</td>\n",
              "      <td>4033.00</td>\n",
              "      <td>4.00</td>\n",
              "      <td>1078.00</td>\n",
              "    </tr>\n",
              "    <tr>\n",
              "      <th>max</th>\n",
              "      <td>9999.00</td>\n",
              "      <td>109374.00</td>\n",
              "      <td>5.00</td>\n",
              "      <td>1999.00</td>\n",
              "    </tr>\n",
              "  </tbody>\n",
              "</table>\n",
              "</div>"
            ],
            "text/plain": [
              "          userId    movieId     rating  movie_idx\n",
              "count 5392025.00 5392025.00 5392025.00 5392025.00\n",
              "mean     4064.70    6735.17       3.45     686.57\n",
              "std      2904.37   14985.54       1.02     549.58\n",
              "min         0.00       1.00       0.50       0.00\n",
              "25%      1471.00    1172.00       3.00     211.00\n",
              "50%      3614.00    2289.00       3.50     552.00\n",
              "75%      6432.00    4033.00       4.00    1078.00\n",
              "max      9999.00  109374.00       5.00    1999.00"
            ]
          },
          "metadata": {}
        }
      ]
    },
    {
      "cell_type": "code",
      "metadata": {
        "id": "qRjXfq8TLRu1"
      },
      "source": [
        "df_small.to_csv(BASE_PATH+'very_small_rating.csv', index=False)"
      ],
      "execution_count": null,
      "outputs": []
    },
    {
      "cell_type": "code",
      "metadata": {
        "id": "g5-ORQnaLnhl"
      },
      "source": [
        ""
      ],
      "execution_count": null,
      "outputs": []
    }
  ]
}