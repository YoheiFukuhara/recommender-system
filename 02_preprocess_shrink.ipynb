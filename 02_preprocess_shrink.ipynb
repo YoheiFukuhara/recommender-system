{
  "nbformat": 4,
  "nbformat_minor": 0,
  "metadata": {
    "colab": {
      "name": "02.preprocess_shrink.ipynb",
      "provenance": [],
      "collapsed_sections": [],
      "authorship_tag": "ABX9TyNilW3LP/RgKQbGm4lCsJOJ",
      "include_colab_link": true
    },
    "kernelspec": {
      "name": "python3",
      "display_name": "Python 3"
    },
    "language_info": {
      "name": "python"
    }
  },
  "cells": [
    {
      "cell_type": "markdown",
      "metadata": {
        "id": "view-in-github",
        "colab_type": "text"
      },
      "source": [
        "<a href=\"https://colab.research.google.com/github/YoheiFukuhara/recommender-system/blob/main/02_preprocess_shrink.ipynb\" target=\"_parent\"><img src=\"https://colab.research.google.com/assets/colab-badge.svg\" alt=\"Open In Colab\"/></a>"
      ]
    },
    {
      "cell_type": "code",
      "metadata": {
        "colab": {
          "base_uri": "https://localhost:8080/"
        },
        "id": "3OeDYnfD5hA2",
        "outputId": "5004bc76-c5eb-4f24-ee67-38b234834e9e"
      },
      "source": [
        "from collections import Counter\n",
        "\n",
        "import pandas as pd\n",
        "from google.colab import drive\n",
        "\n",
        "drive.mount('/content/drive')"
      ],
      "execution_count": null,
      "outputs": [
        {
          "output_type": "stream",
          "name": "stdout",
          "text": [
            "Drive already mounted at /content/drive; to attempt to forcibly remount, call drive.mount(\"/content/drive\", force_remount=True).\n"
          ]
        }
      ]
    },
    {
      "cell_type": "code",
      "metadata": {
        "id": "o5QM_u_v5y_E"
      },
      "source": [
        "BASE_PATH = '/content/drive/MyDrive/ColabNotebooks/ML/Recommend/output/'\n",
        "df = pd.read_csv(BASE_PATH+'edited_rating.csv')"
      ],
      "execution_count": null,
      "outputs": []
    },
    {
      "cell_type": "code",
      "metadata": {
        "colab": {
          "base_uri": "https://localhost:8080/",
          "height": 898
        },
        "id": "cy68d0046Ipe",
        "outputId": "5fc9b1fa-3914-4e11-a7f8-7aa83c7b9208"
      },
      "source": [
        "pd.options.display.float_format = '{:.2f}'.format\n",
        "df.info()\n",
        "display(df.describe())\n",
        "display(df)"
      ],
      "execution_count": null,
      "outputs": [
        {
          "output_type": "stream",
          "name": "stdout",
          "text": [
            "<class 'pandas.core.frame.DataFrame'>\n",
            "RangeIndex: 20000263 entries, 0 to 20000262\n",
            "Data columns (total 4 columns):\n",
            " #   Column     Dtype  \n",
            "---  ------     -----  \n",
            " 0   userId     int64  \n",
            " 1   movieId    int64  \n",
            " 2   rating     float64\n",
            " 3   movie_idx  int64  \n",
            "dtypes: float64(1), int64(3)\n",
            "memory usage: 610.4 MB\n"
          ]
        },
        {
          "output_type": "display_data",
          "data": {
            "text/html": [
              "<div>\n",
              "<style scoped>\n",
              "    .dataframe tbody tr th:only-of-type {\n",
              "        vertical-align: middle;\n",
              "    }\n",
              "\n",
              "    .dataframe tbody tr th {\n",
              "        vertical-align: top;\n",
              "    }\n",
              "\n",
              "    .dataframe thead th {\n",
              "        text-align: right;\n",
              "    }\n",
              "</style>\n",
              "<table border=\"1\" class=\"dataframe\">\n",
              "  <thead>\n",
              "    <tr style=\"text-align: right;\">\n",
              "      <th></th>\n",
              "      <th>userId</th>\n",
              "      <th>movieId</th>\n",
              "      <th>rating</th>\n",
              "      <th>movie_idx</th>\n",
              "    </tr>\n",
              "  </thead>\n",
              "  <tbody>\n",
              "    <tr>\n",
              "      <th>count</th>\n",
              "      <td>20000263.00</td>\n",
              "      <td>20000263.00</td>\n",
              "      <td>20000263.00</td>\n",
              "      <td>20000263.00</td>\n",
              "    </tr>\n",
              "    <tr>\n",
              "      <th>mean</th>\n",
              "      <td>69044.87</td>\n",
              "      <td>9041.57</td>\n",
              "      <td>3.53</td>\n",
              "      <td>3612.60</td>\n",
              "    </tr>\n",
              "    <tr>\n",
              "      <th>std</th>\n",
              "      <td>40038.63</td>\n",
              "      <td>19789.48</td>\n",
              "      <td>1.05</td>\n",
              "      <td>4154.44</td>\n",
              "    </tr>\n",
              "    <tr>\n",
              "      <th>min</th>\n",
              "      <td>0.00</td>\n",
              "      <td>1.00</td>\n",
              "      <td>0.50</td>\n",
              "      <td>0.00</td>\n",
              "    </tr>\n",
              "    <tr>\n",
              "      <th>25%</th>\n",
              "      <td>34394.00</td>\n",
              "      <td>902.00</td>\n",
              "      <td>3.00</td>\n",
              "      <td>887.00</td>\n",
              "    </tr>\n",
              "    <tr>\n",
              "      <th>50%</th>\n",
              "      <td>69140.00</td>\n",
              "      <td>2167.00</td>\n",
              "      <td>3.50</td>\n",
              "      <td>2085.00</td>\n",
              "    </tr>\n",
              "    <tr>\n",
              "      <th>75%</th>\n",
              "      <td>103636.00</td>\n",
              "      <td>4770.00</td>\n",
              "      <td>4.00</td>\n",
              "      <td>4677.00</td>\n",
              "    </tr>\n",
              "    <tr>\n",
              "      <th>max</th>\n",
              "      <td>138492.00</td>\n",
              "      <td>131262.00</td>\n",
              "      <td>5.00</td>\n",
              "      <td>26743.00</td>\n",
              "    </tr>\n",
              "  </tbody>\n",
              "</table>\n",
              "</div>"
            ],
            "text/plain": [
              "           userId     movieId      rating   movie_idx\n",
              "count 20000263.00 20000263.00 20000263.00 20000263.00\n",
              "mean     69044.87     9041.57        3.53     3612.60\n",
              "std      40038.63    19789.48        1.05     4154.44\n",
              "min          0.00        1.00        0.50        0.00\n",
              "25%      34394.00      902.00        3.00      887.00\n",
              "50%      69140.00     2167.00        3.50     2085.00\n",
              "75%     103636.00     4770.00        4.00     4677.00\n",
              "max     138492.00   131262.00        5.00    26743.00"
            ]
          },
          "metadata": {}
        },
        {
          "output_type": "display_data",
          "data": {
            "text/html": [
              "<div>\n",
              "<style scoped>\n",
              "    .dataframe tbody tr th:only-of-type {\n",
              "        vertical-align: middle;\n",
              "    }\n",
              "\n",
              "    .dataframe tbody tr th {\n",
              "        vertical-align: top;\n",
              "    }\n",
              "\n",
              "    .dataframe thead th {\n",
              "        text-align: right;\n",
              "    }\n",
              "</style>\n",
              "<table border=\"1\" class=\"dataframe\">\n",
              "  <thead>\n",
              "    <tr style=\"text-align: right;\">\n",
              "      <th></th>\n",
              "      <th>userId</th>\n",
              "      <th>movieId</th>\n",
              "      <th>rating</th>\n",
              "      <th>movie_idx</th>\n",
              "    </tr>\n",
              "  </thead>\n",
              "  <tbody>\n",
              "    <tr>\n",
              "      <th>0</th>\n",
              "      <td>0</td>\n",
              "      <td>2</td>\n",
              "      <td>3.50</td>\n",
              "      <td>2</td>\n",
              "    </tr>\n",
              "    <tr>\n",
              "      <th>1</th>\n",
              "      <td>0</td>\n",
              "      <td>29</td>\n",
              "      <td>3.50</td>\n",
              "      <td>29</td>\n",
              "    </tr>\n",
              "    <tr>\n",
              "      <th>2</th>\n",
              "      <td>0</td>\n",
              "      <td>32</td>\n",
              "      <td>3.50</td>\n",
              "      <td>32</td>\n",
              "    </tr>\n",
              "    <tr>\n",
              "      <th>3</th>\n",
              "      <td>0</td>\n",
              "      <td>47</td>\n",
              "      <td>3.50</td>\n",
              "      <td>47</td>\n",
              "    </tr>\n",
              "    <tr>\n",
              "      <th>4</th>\n",
              "      <td>0</td>\n",
              "      <td>50</td>\n",
              "      <td>3.50</td>\n",
              "      <td>50</td>\n",
              "    </tr>\n",
              "    <tr>\n",
              "      <th>...</th>\n",
              "      <td>...</td>\n",
              "      <td>...</td>\n",
              "      <td>...</td>\n",
              "      <td>...</td>\n",
              "    </tr>\n",
              "    <tr>\n",
              "      <th>20000258</th>\n",
              "      <td>138492</td>\n",
              "      <td>68954</td>\n",
              "      <td>4.50</td>\n",
              "      <td>13821</td>\n",
              "    </tr>\n",
              "    <tr>\n",
              "      <th>20000259</th>\n",
              "      <td>138492</td>\n",
              "      <td>69526</td>\n",
              "      <td>4.50</td>\n",
              "      <td>13929</td>\n",
              "    </tr>\n",
              "    <tr>\n",
              "      <th>20000260</th>\n",
              "      <td>138492</td>\n",
              "      <td>69644</td>\n",
              "      <td>3.00</td>\n",
              "      <td>13942</td>\n",
              "    </tr>\n",
              "    <tr>\n",
              "      <th>20000261</th>\n",
              "      <td>138492</td>\n",
              "      <td>70286</td>\n",
              "      <td>5.00</td>\n",
              "      <td>14060</td>\n",
              "    </tr>\n",
              "    <tr>\n",
              "      <th>20000262</th>\n",
              "      <td>138492</td>\n",
              "      <td>71619</td>\n",
              "      <td>2.50</td>\n",
              "      <td>14344</td>\n",
              "    </tr>\n",
              "  </tbody>\n",
              "</table>\n",
              "<p>20000263 rows × 4 columns</p>\n",
              "</div>"
            ],
            "text/plain": [
              "          userId  movieId  rating  movie_idx\n",
              "0              0        2    3.50          2\n",
              "1              0       29    3.50         29\n",
              "2              0       32    3.50         32\n",
              "3              0       47    3.50         47\n",
              "4              0       50    3.50         50\n",
              "...          ...      ...     ...        ...\n",
              "20000258  138492    68954    4.50      13821\n",
              "20000259  138492    69526    4.50      13929\n",
              "20000260  138492    69644    3.00      13942\n",
              "20000261  138492    70286    5.00      14060\n",
              "20000262  138492    71619    2.50      14344\n",
              "\n",
              "[20000263 rows x 4 columns]"
            ]
          },
          "metadata": {}
        }
      ]
    },
    {
      "cell_type": "code",
      "metadata": {
        "colab": {
          "base_uri": "https://localhost:8080/"
        },
        "id": "FhOg4s4x6Mr0",
        "outputId": "3af6a345-db96-4674-cd6f-4e3eda8fd5b8"
      },
      "source": [
        "print(f'unique number of user id: {df.userId.nunique()}')\n",
        "print(f'unique number of movie id: {df.movie_idx.nunique()}')"
      ],
      "execution_count": null,
      "outputs": [
        {
          "output_type": "stream",
          "name": "stdout",
          "text": [
            "unique number of user id: 138493\n",
            "unique number of movie id: 26744\n"
          ]
        }
      ]
    },
    {
      "cell_type": "code",
      "metadata": {
        "colab": {
          "base_uri": "https://localhost:8080/"
        },
        "id": "YfUHiqmwCeza",
        "outputId": "e453ca21-1062-4243-b137-263adc4e4159"
      },
      "source": [
        "%%time\n",
        "# number of users and movies to keep\n",
        "user_ids = [id for id, _ in Counter(df.userId).most_common(4000)] # the original is 10000\n",
        "movie_ids = [id for id, _ in Counter(df.movie_idx).most_common(1000)] # the original is 2000"
      ],
      "execution_count": null,
      "outputs": [
        {
          "output_type": "stream",
          "name": "stdout",
          "text": [
            "CPU times: user 9.83 s, sys: 43.4 ms, total: 9.87 s\n",
            "Wall time: 9.82 s\n"
          ]
        }
      ]
    },
    {
      "cell_type": "code",
      "metadata": {
        "colab": {
          "base_uri": "https://localhost:8080/",
          "height": 933
        },
        "id": "RjJMWG_xDRN5",
        "outputId": "92be2261-04a1-457b-d995-bdbeb3f87334"
      },
      "source": [
        "%%time\n",
        "df_small = df[df.userId.isin(user_ids) & df.movie_idx.isin(movie_ids)].copy()\n",
        "df_small.info()\n",
        "display(df_small.describe())\n",
        "display(df_small)"
      ],
      "execution_count": null,
      "outputs": [
        {
          "output_type": "stream",
          "name": "stdout",
          "text": [
            "<class 'pandas.core.frame.DataFrame'>\n",
            "Int64Index: 1982718 entries, 5400 to 19993378\n",
            "Data columns (total 4 columns):\n",
            " #   Column     Dtype  \n",
            "---  ------     -----  \n",
            " 0   userId     int64  \n",
            " 1   movieId    int64  \n",
            " 2   rating     float64\n",
            " 3   movie_idx  int64  \n",
            "dtypes: float64(1), int64(3)\n",
            "memory usage: 75.6 MB\n"
          ]
        },
        {
          "output_type": "display_data",
          "data": {
            "text/html": [
              "<div>\n",
              "<style scoped>\n",
              "    .dataframe tbody tr th:only-of-type {\n",
              "        vertical-align: middle;\n",
              "    }\n",
              "\n",
              "    .dataframe tbody tr th {\n",
              "        vertical-align: top;\n",
              "    }\n",
              "\n",
              "    .dataframe thead th {\n",
              "        text-align: right;\n",
              "    }\n",
              "</style>\n",
              "<table border=\"1\" class=\"dataframe\">\n",
              "  <thead>\n",
              "    <tr style=\"text-align: right;\">\n",
              "      <th></th>\n",
              "      <th>userId</th>\n",
              "      <th>movieId</th>\n",
              "      <th>rating</th>\n",
              "      <th>movie_idx</th>\n",
              "    </tr>\n",
              "  </thead>\n",
              "  <tbody>\n",
              "    <tr>\n",
              "      <th>count</th>\n",
              "      <td>1982718.00</td>\n",
              "      <td>1982718.00</td>\n",
              "      <td>1982718.00</td>\n",
              "      <td>1982718.00</td>\n",
              "    </tr>\n",
              "    <tr>\n",
              "      <th>mean</th>\n",
              "      <td>68624.56</td>\n",
              "      <td>5116.48</td>\n",
              "      <td>3.47</td>\n",
              "      <td>2799.43</td>\n",
              "    </tr>\n",
              "    <tr>\n",
              "      <th>std</th>\n",
              "      <td>39799.66</td>\n",
              "      <td>11798.80</td>\n",
              "      <td>1.00</td>\n",
              "      <td>2901.13</td>\n",
              "    </tr>\n",
              "    <tr>\n",
              "      <th>min</th>\n",
              "      <td>53.00</td>\n",
              "      <td>1.00</td>\n",
              "      <td>0.50</td>\n",
              "      <td>1.00</td>\n",
              "    </tr>\n",
              "    <tr>\n",
              "      <th>25%</th>\n",
              "      <td>34349.00</td>\n",
              "      <td>1029.00</td>\n",
              "      <td>3.00</td>\n",
              "      <td>1012.00</td>\n",
              "    </tr>\n",
              "    <tr>\n",
              "      <th>50%</th>\n",
              "      <td>69039.00</td>\n",
              "      <td>1997.00</td>\n",
              "      <td>3.50</td>\n",
              "      <td>1915.00</td>\n",
              "    </tr>\n",
              "    <tr>\n",
              "      <th>75%</th>\n",
              "      <td>102372.00</td>\n",
              "      <td>3578.00</td>\n",
              "      <td>4.00</td>\n",
              "      <td>3489.00</td>\n",
              "    </tr>\n",
              "    <tr>\n",
              "      <th>max</th>\n",
              "      <td>138436.00</td>\n",
              "      <td>81845.00</td>\n",
              "      <td>5.00</td>\n",
              "      <td>16233.00</td>\n",
              "    </tr>\n",
              "  </tbody>\n",
              "</table>\n",
              "</div>"
            ],
            "text/plain": [
              "          userId    movieId     rating  movie_idx\n",
              "count 1982718.00 1982718.00 1982718.00 1982718.00\n",
              "mean    68624.56    5116.48       3.47    2799.43\n",
              "std     39799.66   11798.80       1.00    2901.13\n",
              "min        53.00       1.00       0.50       1.00\n",
              "25%     34349.00    1029.00       3.00    1012.00\n",
              "50%     69039.00    1997.00       3.50    1915.00\n",
              "75%    102372.00    3578.00       4.00    3489.00\n",
              "max    138436.00   81845.00       5.00   16233.00"
            ]
          },
          "metadata": {}
        },
        {
          "output_type": "display_data",
          "data": {
            "text/html": [
              "<div>\n",
              "<style scoped>\n",
              "    .dataframe tbody tr th:only-of-type {\n",
              "        vertical-align: middle;\n",
              "    }\n",
              "\n",
              "    .dataframe tbody tr th {\n",
              "        vertical-align: top;\n",
              "    }\n",
              "\n",
              "    .dataframe thead th {\n",
              "        text-align: right;\n",
              "    }\n",
              "</style>\n",
              "<table border=\"1\" class=\"dataframe\">\n",
              "  <thead>\n",
              "    <tr style=\"text-align: right;\">\n",
              "      <th></th>\n",
              "      <th>userId</th>\n",
              "      <th>movieId</th>\n",
              "      <th>rating</th>\n",
              "      <th>movie_idx</th>\n",
              "    </tr>\n",
              "  </thead>\n",
              "  <tbody>\n",
              "    <tr>\n",
              "      <th>5400</th>\n",
              "      <td>53</td>\n",
              "      <td>1</td>\n",
              "      <td>4.00</td>\n",
              "      <td>1</td>\n",
              "    </tr>\n",
              "    <tr>\n",
              "      <th>5401</th>\n",
              "      <td>53</td>\n",
              "      <td>2</td>\n",
              "      <td>3.00</td>\n",
              "      <td>2</td>\n",
              "    </tr>\n",
              "    <tr>\n",
              "      <th>5402</th>\n",
              "      <td>53</td>\n",
              "      <td>5</td>\n",
              "      <td>3.00</td>\n",
              "      <td>5</td>\n",
              "    </tr>\n",
              "    <tr>\n",
              "      <th>5403</th>\n",
              "      <td>53</td>\n",
              "      <td>6</td>\n",
              "      <td>3.00</td>\n",
              "      <td>6</td>\n",
              "    </tr>\n",
              "    <tr>\n",
              "      <th>5404</th>\n",
              "      <td>53</td>\n",
              "      <td>10</td>\n",
              "      <td>4.00</td>\n",
              "      <td>10</td>\n",
              "    </tr>\n",
              "    <tr>\n",
              "      <th>...</th>\n",
              "      <td>...</td>\n",
              "      <td>...</td>\n",
              "      <td>...</td>\n",
              "      <td>...</td>\n",
              "    </tr>\n",
              "    <tr>\n",
              "      <th>19993363</th>\n",
              "      <td>138436</td>\n",
              "      <td>74458</td>\n",
              "      <td>3.50</td>\n",
              "      <td>14917</td>\n",
              "    </tr>\n",
              "    <tr>\n",
              "      <th>19993369</th>\n",
              "      <td>138436</td>\n",
              "      <td>78499</td>\n",
              "      <td>4.00</td>\n",
              "      <td>15448</td>\n",
              "    </tr>\n",
              "    <tr>\n",
              "      <th>19993372</th>\n",
              "      <td>138436</td>\n",
              "      <td>79132</td>\n",
              "      <td>4.50</td>\n",
              "      <td>15580</td>\n",
              "    </tr>\n",
              "    <tr>\n",
              "      <th>19993375</th>\n",
              "      <td>138436</td>\n",
              "      <td>80463</td>\n",
              "      <td>4.00</td>\n",
              "      <td>15901</td>\n",
              "    </tr>\n",
              "    <tr>\n",
              "      <th>19993378</th>\n",
              "      <td>138436</td>\n",
              "      <td>81591</td>\n",
              "      <td>4.00</td>\n",
              "      <td>16168</td>\n",
              "    </tr>\n",
              "  </tbody>\n",
              "</table>\n",
              "<p>1982718 rows × 4 columns</p>\n",
              "</div>"
            ],
            "text/plain": [
              "          userId  movieId  rating  movie_idx\n",
              "5400          53        1    4.00          1\n",
              "5401          53        2    3.00          2\n",
              "5402          53        5    3.00          5\n",
              "5403          53        6    3.00          6\n",
              "5404          53       10    4.00         10\n",
              "...          ...      ...     ...        ...\n",
              "19993363  138436    74458    3.50      14917\n",
              "19993369  138436    78499    4.00      15448\n",
              "19993372  138436    79132    4.50      15580\n",
              "19993375  138436    80463    4.00      15901\n",
              "19993378  138436    81591    4.00      16168\n",
              "\n",
              "[1982718 rows x 4 columns]"
            ]
          },
          "metadata": {}
        },
        {
          "output_type": "stream",
          "name": "stdout",
          "text": [
            "CPU times: user 4.59 s, sys: 1.07 s, total: 5.65 s\n",
            "Wall time: 5.63 s\n"
          ]
        }
      ]
    },
    {
      "cell_type": "code",
      "metadata": {
        "colab": {
          "base_uri": "https://localhost:8080/"
        },
        "id": "UUMzhgBEDfoE",
        "outputId": "0aeea912-eb95-4a70-bce4-55d6a47e07e6"
      },
      "source": [
        "def create_old_map(ids):\n",
        "    id_map = {}\n",
        "    for i, old in enumerate(ids):\n",
        "        id_map[old] = i\n",
        "    print(len(id_map))\n",
        "    return id_map\n",
        "\n",
        "new_user_id_map = create_old_map(user_ids)\n",
        "new_movie_id_map = create_old_map(movie_ids)"
      ],
      "execution_count": null,
      "outputs": [
        {
          "output_type": "stream",
          "name": "stdout",
          "text": [
            "4000\n",
            "1000\n"
          ]
        }
      ]
    },
    {
      "cell_type": "code",
      "metadata": {
        "colab": {
          "base_uri": "https://localhost:8080/"
        },
        "id": "ItT830qDHPtw",
        "outputId": "45b08745-c4ae-4c86-b0fd-3af69095ce5f"
      },
      "source": [
        "%%time\n",
        "df_small.loc[:,'userId'] = df_small.userId.map(lambda x: new_user_id_map[x])\n",
        "df_small.loc[:,'movie_idx'] = df_small.movie_idx.map(lambda x: new_movie_id_map[x])"
      ],
      "execution_count": null,
      "outputs": [
        {
          "output_type": "stream",
          "name": "stdout",
          "text": [
            "CPU times: user 1.66 s, sys: 132 ms, total: 1.79 s\n",
            "Wall time: 1.78 s\n"
          ]
        }
      ]
    },
    {
      "cell_type": "code",
      "metadata": {
        "colab": {
          "base_uri": "https://localhost:8080/",
          "height": 300
        },
        "id": "kT311dvaHwEd",
        "outputId": "aaa2391f-37af-4f05-dc2f-bf33f83a2761"
      },
      "source": [
        "display(df_small.describe())"
      ],
      "execution_count": null,
      "outputs": [
        {
          "output_type": "display_data",
          "data": {
            "text/html": [
              "<div>\n",
              "<style scoped>\n",
              "    .dataframe tbody tr th:only-of-type {\n",
              "        vertical-align: middle;\n",
              "    }\n",
              "\n",
              "    .dataframe tbody tr th {\n",
              "        vertical-align: top;\n",
              "    }\n",
              "\n",
              "    .dataframe thead th {\n",
              "        text-align: right;\n",
              "    }\n",
              "</style>\n",
              "<table border=\"1\" class=\"dataframe\">\n",
              "  <thead>\n",
              "    <tr style=\"text-align: right;\">\n",
              "      <th></th>\n",
              "      <th>userId</th>\n",
              "      <th>movieId</th>\n",
              "      <th>rating</th>\n",
              "      <th>movie_idx</th>\n",
              "    </tr>\n",
              "  </thead>\n",
              "  <tbody>\n",
              "    <tr>\n",
              "      <th>count</th>\n",
              "      <td>1982718.00</td>\n",
              "      <td>1982718.00</td>\n",
              "      <td>1982718.00</td>\n",
              "      <td>1982718.00</td>\n",
              "    </tr>\n",
              "    <tr>\n",
              "      <th>mean</th>\n",
              "      <td>1796.93</td>\n",
              "      <td>5116.48</td>\n",
              "      <td>3.47</td>\n",
              "      <td>417.32</td>\n",
              "    </tr>\n",
              "    <tr>\n",
              "      <th>std</th>\n",
              "      <td>1164.18</td>\n",
              "      <td>11798.80</td>\n",
              "      <td>1.00</td>\n",
              "      <td>287.50</td>\n",
              "    </tr>\n",
              "    <tr>\n",
              "      <th>min</th>\n",
              "      <td>0.00</td>\n",
              "      <td>1.00</td>\n",
              "      <td>0.50</td>\n",
              "      <td>0.00</td>\n",
              "    </tr>\n",
              "    <tr>\n",
              "      <th>25%</th>\n",
              "      <td>765.00</td>\n",
              "      <td>1029.00</td>\n",
              "      <td>3.00</td>\n",
              "      <td>162.00</td>\n",
              "    </tr>\n",
              "    <tr>\n",
              "      <th>50%</th>\n",
              "      <td>1703.00</td>\n",
              "      <td>1997.00</td>\n",
              "      <td>3.50</td>\n",
              "      <td>379.00</td>\n",
              "    </tr>\n",
              "    <tr>\n",
              "      <th>75%</th>\n",
              "      <td>2776.00</td>\n",
              "      <td>3578.00</td>\n",
              "      <td>4.00</td>\n",
              "      <td>651.00</td>\n",
              "    </tr>\n",
              "    <tr>\n",
              "      <th>max</th>\n",
              "      <td>3999.00</td>\n",
              "      <td>81845.00</td>\n",
              "      <td>5.00</td>\n",
              "      <td>999.00</td>\n",
              "    </tr>\n",
              "  </tbody>\n",
              "</table>\n",
              "</div>"
            ],
            "text/plain": [
              "          userId    movieId     rating  movie_idx\n",
              "count 1982718.00 1982718.00 1982718.00 1982718.00\n",
              "mean     1796.93    5116.48       3.47     417.32\n",
              "std      1164.18   11798.80       1.00     287.50\n",
              "min         0.00       1.00       0.50       0.00\n",
              "25%       765.00    1029.00       3.00     162.00\n",
              "50%      1703.00    1997.00       3.50     379.00\n",
              "75%      2776.00    3578.00       4.00     651.00\n",
              "max      3999.00   81845.00       5.00     999.00"
            ]
          },
          "metadata": {}
        }
      ]
    },
    {
      "cell_type": "code",
      "metadata": {
        "id": "qRjXfq8TLRu1"
      },
      "source": [
        "df_small.to_csv(BASE_PATH+'very_small_rating.csv', index=False)"
      ],
      "execution_count": null,
      "outputs": []
    },
    {
      "cell_type": "code",
      "metadata": {
        "id": "g5-ORQnaLnhl"
      },
      "source": [
        ""
      ],
      "execution_count": null,
      "outputs": []
    }
  ]
}