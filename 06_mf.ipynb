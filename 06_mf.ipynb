{
  "cells": [
    {
      "cell_type": "markdown",
      "metadata": {
        "id": "view-in-github",
        "colab_type": "text"
      },
      "source": [
        "<a href=\"https://colab.research.google.com/github/YoheiFukuhara/recommender-system/blob/main/06_mf.ipynb\" target=\"_parent\"><img src=\"https://colab.research.google.com/assets/colab-badge.svg\" alt=\"Open In Colab\"/></a>"
      ]
    },
    {
      "cell_type": "code",
      "execution_count": null,
      "metadata": {
        "colab": {
          "base_uri": "https://localhost:8080/"
        },
        "id": "49XnsdD9AJDH",
        "outputId": "d2bb67ab-f437-4ffc-8552-9c144faf19ae"
      },
      "outputs": [
        {
          "output_type": "stream",
          "name": "stdout",
          "text": [
            "Mounted at /content/drive\n"
          ]
        }
      ],
      "source": [
        "from datetime import datetime\n",
        "import pickle\n",
        "\n",
        "from google.colab import drive\n",
        "import matplotlib.pyplot as plt\n",
        "import numpy as np\n",
        "\n",
        "drive.mount('/content/drive')"
      ]
    },
    {
      "cell_type": "code",
      "execution_count": null,
      "metadata": {
        "id": "cbwUPlckBA0A"
      },
      "outputs": [],
      "source": [
        "BASE_PATH = '/content/drive/MyDrive/ColabNotebooks/ML/Recommend/output/'"
      ]
    },
    {
      "cell_type": "code",
      "execution_count": null,
      "metadata": {
        "id": "QonNacnOAp8s"
      },
      "outputs": [],
      "source": [
        "def load_pickle(file):\n",
        "    with open(BASE_PATH+file+'.pickle', 'rb') as f:\n",
        "        return pickle.load(f)\n",
        "\n",
        "user2movie = load_pickle('user2movie')\n",
        "movie2user = load_pickle('movie2user')\n",
        "usermovie2rating = load_pickle('usermovie2rating')\n",
        "usermovie2rating_test = load_pickle('usermovie2rating_test')"
      ]
    },
    {
      "cell_type": "code",
      "execution_count": null,
      "metadata": {
        "colab": {
          "base_uri": "https://localhost:8080/"
        },
        "id": "Oz5FQOgmA0SR",
        "outputId": "01e4bd72-8ad0-43a1-e787-d65cc93cfb20"
      },
      "outputs": [
        {
          "output_type": "stream",
          "name": "stdout",
          "text": [
            "N: 4000 M: 1000\n"
          ]
        }
      ],
      "source": [
        "N = np.max(list(user2movie.keys())) + 1\n",
        "m1 = np.max(list(movie2user.keys()))\n",
        "m2 = np.max([m for (u, m), r in usermovie2rating_test.items()])\n",
        "M = max(m1, m2) + 1\n",
        "print('N:', N, 'M:', M)  #if N is more than 10000, it takes so much time to process."
      ]
    },
    {
      "cell_type": "code",
      "execution_count": null,
      "metadata": {
        "id": "vtWSMLJfPntF"
      },
      "outputs": [],
      "source": [
        "K = 10 # dimension\n",
        "W = np.random.randn(N, K)\n",
        "b = np.zeros(N)\n",
        "U = np.random.randn(M, K)\n",
        "c = np.zeros(M)\n",
        "mu = np.mean(list(usermovie2rating.values()))"
      ]
    },
    {
      "cell_type": "code",
      "execution_count": null,
      "metadata": {
        "id": "OP3gZ4wSPs0K"
      },
      "outputs": [],
      "source": [
        "def get_loss(d):\n",
        "    # d: (user_id, movie_id) -> rating\n",
        "    # Sum of Squared Error\n",
        "    sse = 0  \n",
        "    for k, r in d.items():\n",
        "        i, j = k\n",
        "        pred = W[i].dot(U[j]) + b[i] + c[j] + mu\n",
        "        sse += (pred - r)*(pred - r)\n",
        "    return sse / float(len(d))"
      ]
    },
    {
      "cell_type": "code",
      "execution_count": null,
      "metadata": {
        "colab": {
          "base_uri": "https://localhost:8080/"
        },
        "id": "q-FSWbqHA5Y6",
        "outputId": "509b790c-935e-4dc7-b012-7f3254d60cb4"
      },
      "outputs": [
        {
          "output_type": "stream",
          "name": "stdout",
          "text": [
            "epoch:0\n",
            "i: 0 N: 4000\n",
            "i: 1333 N: 4000\n",
            "i: 2666 N: 4000\n",
            "i: 3999 N: 4000\n",
            "updated W and b: 0:00:28.672946\n",
            "j: 0 M: 1000\n",
            "j: 333 M: 1000\n",
            "j: 666 M: 1000\n",
            "j: 999 M: 1000\n",
            "updated U and c: 0:00:58.616507\n",
            "epoch duration: 0:01:27.289621\n",
            "calculate cost: 0:00:04.977027\n",
            "train loss: 0.6819014731854192\n",
            "test loss: 0.6947537514263058\n",
            "epoch:1\n",
            "i: 0 N: 4000\n",
            "i: 1333 N: 4000\n",
            "i: 2666 N: 4000\n",
            "i: 3999 N: 4000\n",
            "updated W and b: 0:00:27.532615\n",
            "j: 0 M: 1000\n",
            "j: 333 M: 1000\n",
            "j: 666 M: 1000\n",
            "j: 999 M: 1000\n",
            "updated U and c: 0:01:00.732173\n",
            "epoch duration: 0:01:28.265265\n",
            "calculate cost: 0:00:04.838404\n",
            "train loss: 0.5406150251654824\n",
            "test loss: 0.5737171756140579\n",
            "epoch:2\n",
            "i: 0 N: 4000\n",
            "i: 1333 N: 4000\n",
            "i: 2666 N: 4000\n",
            "i: 3999 N: 4000\n",
            "updated W and b: 0:00:28.301212\n",
            "j: 0 M: 1000\n",
            "j: 333 M: 1000\n",
            "j: 666 M: 1000\n",
            "j: 999 M: 1000\n",
            "updated U and c: 0:01:00.161846\n",
            "epoch duration: 0:01:28.463221\n",
            "calculate cost: 0:00:04.862644\n",
            "train loss: 0.511632634341426\n",
            "test loss: 0.5478242908373959\n",
            "epoch:3\n",
            "i: 0 N: 4000\n",
            "i: 1333 N: 4000\n",
            "i: 2666 N: 4000\n",
            "i: 3999 N: 4000\n",
            "updated W and b: 0:00:27.876343\n",
            "j: 0 M: 1000\n",
            "j: 333 M: 1000\n",
            "j: 666 M: 1000\n",
            "j: 999 M: 1000\n",
            "updated U and c: 0:01:01.461019\n",
            "epoch duration: 0:01:29.338676\n",
            "calculate cost: 0:00:04.881386\n",
            "train loss: 0.506182572425836\n",
            "test loss: 0.542070636363171\n",
            "epoch:4\n",
            "i: 0 N: 4000\n",
            "i: 1333 N: 4000\n",
            "i: 2666 N: 4000\n",
            "i: 3999 N: 4000\n",
            "updated W and b: 0:00:28.503996\n",
            "j: 0 M: 1000\n",
            "j: 333 M: 1000\n",
            "j: 666 M: 1000\n",
            "j: 999 M: 1000\n",
            "updated U and c: 0:00:59.763038\n",
            "epoch duration: 0:01:28.267206\n",
            "calculate cost: 0:00:05.081739\n",
            "train loss: 0.5045748475656893\n",
            "test loss: 0.5402397450057262\n",
            "epoch:5\n",
            "i: 0 N: 4000\n",
            "i: 1333 N: 4000\n",
            "i: 2666 N: 4000\n",
            "i: 3999 N: 4000\n",
            "updated W and b: 0:00:28.748692\n",
            "j: 0 M: 1000\n",
            "j: 333 M: 1000\n",
            "j: 666 M: 1000\n",
            "j: 999 M: 1000\n",
            "updated U and c: 0:00:59.733352\n",
            "epoch duration: 0:01:28.482815\n",
            "calculate cost: 0:00:05.034928\n",
            "train loss: 0.5039978339768592\n",
            "test loss: 0.5394811659163323\n",
            "epoch:6\n",
            "i: 0 N: 4000\n",
            "i: 1333 N: 4000\n",
            "i: 2666 N: 4000\n",
            "i: 3999 N: 4000\n",
            "updated W and b: 0:00:27.426443\n",
            "j: 0 M: 1000\n",
            "j: 333 M: 1000\n",
            "j: 666 M: 1000\n",
            "j: 999 M: 1000\n",
            "updated U and c: 0:01:00.593558\n",
            "epoch duration: 0:01:28.020174\n",
            "calculate cost: 0:00:04.962020\n",
            "train loss: 0.5036848235542332\n",
            "test loss: 0.5390180476429646\n",
            "epoch:7\n",
            "i: 0 N: 4000\n",
            "i: 1333 N: 4000\n",
            "i: 2666 N: 4000\n",
            "i: 3999 N: 4000\n",
            "updated W and b: 0:00:27.230448\n",
            "j: 0 M: 1000\n",
            "j: 333 M: 1000\n",
            "j: 666 M: 1000\n",
            "j: 999 M: 1000\n",
            "updated U and c: 0:01:03.208488\n",
            "epoch duration: 0:01:30.439220\n",
            "calculate cost: 0:00:05.208941\n",
            "train loss: 0.5035174825636282\n",
            "test loss: 0.5387373464856462\n",
            "epoch:8\n",
            "i: 0 N: 4000\n",
            "i: 1333 N: 4000\n",
            "i: 2666 N: 4000\n",
            "i: 3999 N: 4000\n",
            "updated W and b: 0:00:27.312003\n",
            "j: 0 M: 1000\n",
            "j: 333 M: 1000\n",
            "j: 666 M: 1000\n",
            "j: 999 M: 1000\n",
            "updated U and c: 0:01:00.861674\n",
            "epoch duration: 0:01:28.173846\n",
            "calculate cost: 0:00:04.991098\n",
            "train loss: 0.5033961674909901\n",
            "test loss: 0.5385120128463278\n",
            "epoch:9\n",
            "i: 0 N: 4000\n",
            "i: 1333 N: 4000\n",
            "i: 2666 N: 4000\n",
            "i: 3999 N: 4000\n",
            "updated W and b: 0:00:27.507981\n",
            "j: 0 M: 1000\n",
            "j: 333 M: 1000\n",
            "j: 666 M: 1000\n",
            "j: 999 M: 1000\n",
            "updated U and c: 0:00:57.951253\n",
            "epoch duration: 0:01:25.459762\n",
            "calculate cost: 0:00:05.198161\n",
            "train loss: 0.5033124367868115\n",
            "test loss: 0.5383467044133589\n",
            "epoch:10\n",
            "i: 0 N: 4000\n",
            "i: 1333 N: 4000\n",
            "i: 2666 N: 4000\n",
            "i: 3999 N: 4000\n",
            "updated W and b: 0:00:27.204581\n",
            "j: 0 M: 1000\n",
            "j: 333 M: 1000\n",
            "j: 666 M: 1000\n",
            "j: 999 M: 1000\n",
            "updated U and c: 0:01:03.821628\n",
            "epoch duration: 0:01:31.026446\n",
            "calculate cost: 0:00:05.438911\n",
            "train loss: 0.5032427728212927\n",
            "test loss: 0.5382040900025029\n",
            "epoch:11\n",
            "i: 0 N: 4000\n",
            "i: 1333 N: 4000\n",
            "i: 2666 N: 4000\n",
            "i: 3999 N: 4000\n",
            "updated W and b: 0:00:26.761409\n",
            "j: 0 M: 1000\n",
            "j: 333 M: 1000\n",
            "j: 666 M: 1000\n",
            "j: 999 M: 1000\n",
            "updated U and c: 0:01:02.077702\n",
            "epoch duration: 0:01:28.839659\n",
            "calculate cost: 0:00:05.167236\n",
            "train loss: 0.5031882511016134\n",
            "test loss: 0.538092858967583\n",
            "CPU times: user 18min 46s, sys: 1min 22s, total: 20min 8s\n",
            "Wall time: 18min 42s\n"
          ]
        }
      ],
      "source": [
        "%%time\n",
        "# train the parameters\n",
        "epochs = 12  # change from original 25\n",
        "reg =20. # regularization penalty\n",
        "train_losses = []\n",
        "test_losses = []\n",
        "\n",
        "for epoch in range(epochs):\n",
        "    print(f\"epoch:{epoch}\")\n",
        "    \n",
        "    # perform updates\n",
        "    epoch_start = datetime.now()\n",
        "\n",
        "    # update W and b\n",
        "    t0 = datetime.now()\n",
        "    for i in range(N):\n",
        "        # for W\n",
        "        matrix = np.eye(K) * reg  # np.eyeは単位行列(ここではK*K)\n",
        "        vector = np.zeros(K)\n",
        "\n",
        "        # for b\n",
        "        bi = 0\n",
        "        for j in user2movie[i]:\n",
        "            r = usermovie2rating[(i,j)]\n",
        "            matrix += np.outer(U[j], U[j]) # np.outer は外積\n",
        "            vector += (r - b[i] - c[j] - mu)*U[j]\n",
        "            bi += (r - W[i].dot(U[j]) - c[j] - mu)\n",
        "\n",
        "        # set the updates\n",
        "        W[i] = np.linalg.solve(matrix, vector)\n",
        "        b[i] = bi / (len(user2movie[i]) + reg)\n",
        "\n",
        "        if i % (N//3) == 0:\n",
        "            print(\"i:\", i, \"N:\", N)\n",
        "    print(\"updated W and b:\", datetime.now() - t0)\n",
        "\n",
        "    # update U and c\n",
        "    t0 = datetime.now()\n",
        "    for j in range(M):\n",
        "        # for U\n",
        "        matrix = np.eye(K) * reg\n",
        "        vector = np.zeros(K)\n",
        "\n",
        "        # for c\n",
        "        cj = 0\n",
        "        try:\n",
        "            for i in movie2user[j]:\n",
        "                r = usermovie2rating[(i,j)]\n",
        "                matrix += np.outer(W[i], W[i])\n",
        "                vector += (r - b[i] - c[j] - mu)*W[i]\n",
        "                cj += (r - W[i].dot(U[j]) - b[i] - mu)\n",
        "\n",
        "                # set the updates\n",
        "                U[j] = np.linalg.solve(matrix, vector)\n",
        "                c[j] = cj / (len(movie2user[j]) + reg)\n",
        "\n",
        "            if j % (M//3) == 0:\n",
        "                print(\"j:\", j, \"M:\", M)\n",
        "        except KeyError:\n",
        "            # possible not to have any ratings for a movie\n",
        "            pass\n",
        "    print(\"updated U and c:\", datetime.now() - t0)\n",
        "    print(\"epoch duration:\", datetime.now() - epoch_start)\n",
        "\n",
        "\n",
        "    # store train loss\n",
        "    t0 = datetime.now()\n",
        "    train_losses.append(get_loss(usermovie2rating))\n",
        "\n",
        "    # store test loss\n",
        "    test_losses.append(get_loss(usermovie2rating_test))\n",
        "    print(\"calculate cost:\", datetime.now() - t0)\n",
        "    print(\"train loss:\", train_losses[-1])\n",
        "    print(\"test loss:\", test_losses[-1])"
      ]
    },
    {
      "cell_type": "code",
      "execution_count": null,
      "metadata": {
        "colab": {
          "base_uri": "https://localhost:8080/",
          "height": 320
        },
        "id": "RYEgOyfUIhvf",
        "outputId": "8d54bfec-b6b8-4af0-dbfa-31d172d9ec46"
      },
      "outputs": [
        {
          "output_type": "stream",
          "name": "stdout",
          "text": [
            "train losses: [0.6819014731854192, 0.5406150251654824, 0.511632634341426, 0.506182572425836, 0.5045748475656893, 0.5039978339768592, 0.5036848235542332, 0.5035174825636282, 0.5033961674909901, 0.5033124367868115, 0.5032427728212927, 0.5031882511016134]\n",
            "test losses: [0.6947537514263058, 0.5737171756140579, 0.5478242908373959, 0.542070636363171, 0.5402397450057262, 0.5394811659163323, 0.5390180476429646, 0.5387373464856462, 0.5385120128463278, 0.5383467044133589, 0.5382040900025029, 0.538092858967583]\n"
          ]
        },
        {
          "output_type": "display_data",
          "data": {
            "image/png": "[encoded data removed]",
            "text/plain": [
              "<Figure size 432x288 with 1 Axes>"
            ]
          },
          "metadata": {
            "needs_background": "light"
          }
        }
      ],
      "source": [
        "print(\"train losses:\", train_losses)\n",
        "print(\"test losses:\", test_losses)\n",
        "\n",
        "# plot losses\n",
        "plt.plot(train_losses, label=\"train loss\")\n",
        "plt.plot(test_losses, label=\"test loss\")\n",
        "plt.legend()\n",
        "plt.show()"
      ]
    },
    {
      "cell_type": "code",
      "source": [
        ""
      ],
      "metadata": {
        "id": "M0NDE1Csqy7c"
      },
      "execution_count": null,
      "outputs": []
    }
  ],
  "metadata": {
    "colab": {
      "collapsed_sections": [],
      "name": "06.mf.ipynb",
      "provenance": [],
      "authorship_tag": "ABX9TyO5yEys7wPKOwPhdwwpiDV+",
      "include_colab_link": true
    },
    "kernelspec": {
      "display_name": "Python 3",
      "name": "python3"
    },
    "language_info": {
      "name": "python"
    }
  },
  "nbformat": 4,
  "nbformat_minor": 0
}