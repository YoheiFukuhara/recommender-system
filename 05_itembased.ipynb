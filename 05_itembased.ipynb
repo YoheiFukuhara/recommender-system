{
  "nbformat": 4,
  "nbformat_minor": 0,
  "metadata": {
    "colab": {
      "name": "05.itembased.ipynb",
      "provenance": [],
      "collapsed_sections": [],
      "authorship_tag": "ABX9TyP4S+qWTxGi7rW+1lHWEkCj",
      "include_colab_link": true
    },
    "kernelspec": {
      "name": "python3",
      "display_name": "Python 3"
    },
    "language_info": {
      "name": "python"
    }
  },
  "cells": [
    {
      "cell_type": "markdown",
      "metadata": {
        "id": "view-in-github",
        "colab_type": "text"
      },
      "source": [
        "<a href=\"https://colab.research.google.com/github/YoheiFukuhara/recommender-system/blob/main/05_itembased.ipynb\" target=\"_parent\"><img src=\"https://colab.research.google.com/assets/colab-badge.svg\" alt=\"Open In Colab\"/></a>"
      ]
    },
    {
      "cell_type": "code",
      "execution_count": 1,
      "metadata": {
        "colab": {
          "base_uri": "https://localhost:8080/"
        },
        "id": "49XnsdD9AJDH",
        "outputId": "7ac60ca9-adc1-44d0-cdaf-c338ecb57adc"
      },
      "outputs": [
        {
          "output_type": "stream",
          "name": "stdout",
          "text": [
            "Mounted at /content/drive\n"
          ]
        }
      ],
      "source": [
        "import datetime\n",
        "import pickle\n",
        "\n",
        "from sortedcontainers import SortedList\n",
        "from google.colab import drive\n",
        "import numpy as np\n",
        "\n",
        "drive.mount('/content/drive')"
      ]
    },
    {
      "cell_type": "code",
      "source": [
        "BASE_PATH = '/content/drive/MyDrive/ColabNotebooks/ML/Recommend/output/'"
      ],
      "metadata": {
        "id": "cbwUPlckBA0A"
      },
      "execution_count": 3,
      "outputs": []
    },
    {
      "cell_type": "code",
      "source": [
        "def load_pickle(file):\n",
        "    with open(BASE_PATH+file+'.pickle', 'rb') as f:\n",
        "        return pickle.load(f)\n",
        "\n",
        "user2movie = load_pickle('user2movie')\n",
        "movie2user = load_pickle('movie2user')\n",
        "usermovie2rating = load_pickle('usermovie2rating')\n",
        "usermovie2rating_test = load_pickle('usermovie2rating_test')"
      ],
      "metadata": {
        "id": "QonNacnOAp8s"
      },
      "execution_count": 4,
      "outputs": []
    },
    {
      "cell_type": "code",
      "source": [
        "N = np.max(list(user2movie.keys())) + 1\n",
        "m1 = np.max(list(movie2user.keys()))\n",
        "m2 = np.max([m for (u, m), r in usermovie2rating_test.items()])\n",
        "M = max(m1, m2) + 1\n",
        "print('N:', N, 'M:', M)  #if N is more than 10000, it takes so much time to process."
      ],
      "metadata": {
        "colab": {
          "base_uri": "https://localhost:8080/"
        },
        "id": "Oz5FQOgmA0SR",
        "outputId": "e29e1e76-240f-43b4-ad11-f747f008a668"
      },
      "execution_count": 5,
      "outputs": [
        {
          "output_type": "stream",
          "name": "stdout",
          "text": [
            "N: 4000 M: 1000\n"
          ]
        }
      ]
    },
    {
      "cell_type": "code",
      "source": [
        "%%time\n",
        "K = 20 # number of neighbors we'd like to consider\n",
        "limit = 5 # number of common movies users must have in common in order to consider\n",
        "neighbors = [] # store neighbors in this list\n",
        "averages = [] # each user's average rating for later use\n",
        "deviations = [] # each user's deviation for later use\n",
        "\n",
        "def calc_movie_data(n):\n",
        "    users_n_set = set(movie2user[n])\n",
        "\n",
        "   # Movieの各rating\n",
        "    ratings = { user: usermovie2rating[(user, n)] for user in movie2user[n] }\n",
        " \n",
        "    # Movieの平均Rating\n",
        "    avg = np.mean(list(ratings.values()))  \n",
        "\n",
        "    # Movieの平均Rating と実Ratingとの差 の一覧\n",
        "    dev = {user: (rating - avg) for user, rating in ratings.items()} \n",
        "\n",
        "    # Movieの平均Rating と実Ratingとの差 の一覧(User情報なし)\n",
        "    dev_values = np.array(list(dev.values()))\n",
        "\n",
        "    # ベクトル内積を計算することで偏差を出力\n",
        "    # https://www.yukisako.xyz/entry/correlation-coefficient\n",
        "    sigma = np.sqrt(dev_values.dot(dev_values))\n",
        "\n",
        "    return users_n_set, avg, dev, sigma\n",
        "\n",
        "\n",
        "for i in range(M):\n",
        "    users_i_set, avg_i, dev_i, sigma_i = calc_movie_data(i)\n",
        "\n",
        "    averages.append(avg_i)\n",
        "    deviations.append(dev_i)\n",
        "\n",
        "    sl = SortedList()\n",
        "\n",
        "    # 対称的データなので、計算量を半分にできるが、半分にせずにアルゴリズムを簡略化\n",
        "    for j in range(M):\n",
        "        if j != i:\n",
        "            common_users = (users_i_set & set(movie2user[j])) # 和集合\n",
        "            if len(common_users) > limit:\n",
        "                \n",
        "                _, avg_j, dev_j, sigma_j = calc_movie_data(j)\n",
        "                \n",
        "                # 相関係数算出\n",
        "                w_ij = sum(dev_i[m]*dev_j[m] for m in common_users) / (sigma_i * sigma_j)\n",
        "\n",
        "                # insert into sorted list and truncate\n",
        "                # negate weight, because list is sorted ascending\n",
        "                # maximum value (1) is \"closest\"\n",
        "                sl.add((-w_ij, j))\n",
        "\n",
        "                # しきい値Kを超過していたら末尾(最低値)を削除\n",
        "                if len(sl) > K:\n",
        "                    del sl[-1]\n",
        "    \n",
        "    neighbors.append(sl)\n",
        "    print(\"\\r{0}\".format(i), end=\"\")"
      ],
      "metadata": {
        "colab": {
          "base_uri": "https://localhost:8080/"
        },
        "id": "q-FSWbqHA5Y6",
        "outputId": "cafa50af-d4b0-4505-8a99-31708afb48ff"
      },
      "execution_count": 7,
      "outputs": [
        {
          "output_type": "stream",
          "name": "stdout",
          "text": [
            "999CPU times: user 46min 17s, sys: 31.9 s, total: 46min 49s\n",
            "Wall time: 46min 4s\n"
          ]
        }
      ]
    },
    {
      "cell_type": "code",
      "source": [
        "def predict(i, u):\n",
        "    # calculate the weighted sum of deviations\n",
        "    numerator = 0\n",
        "    denominator = 0\n",
        "    \n",
        "    # k近傍のj読込\n",
        "    for neg_w, j in neighbors[i]:\n",
        "        # remember, the weight is stored as its negative\n",
        "        # so the negative of the negative weight is the positive weight\n",
        "        try:\n",
        "            numerator += -neg_w * deviations[j][u] # 分子\n",
        "            denominator += abs(neg_w)\n",
        "        except KeyError:\n",
        "        # neighbor may not have been rated by the same user\n",
        "        # don't want to do dictionary lookup twice\n",
        "        # so just throw exception\n",
        "            pass\n",
        "\n",
        "    if denominator == 0:\n",
        "        prediction = averages[i]\n",
        "    else:\n",
        "        prediction = numerator / denominator + averages[i]\n",
        "    prediction = min(5, prediction)\n",
        "    prediction = max(0.5, prediction) # min rating is 0.5\n",
        "    return prediction"
      ],
      "metadata": {
        "id": "eqif4aqCEMYn"
      },
      "execution_count": 8,
      "outputs": []
    },
    {
      "cell_type": "code",
      "source": [
        "%%time\n",
        "train_predictions = []\n",
        "train_targets = []\n",
        "for (u, m), target in usermovie2rating.items():\n",
        "    # calculate the prediction for this movie\n",
        "    prediction = predict(m, u)\n",
        "\n",
        "  # save the prediction and target\n",
        "    train_predictions.append(prediction)\n",
        "    train_targets.append(target)"
      ],
      "metadata": {
        "colab": {
          "base_uri": "https://localhost:8080/"
        },
        "id": "RYEgOyfUIhvf",
        "outputId": "9bc5ff15-38b7-4210-ed4f-3a68f2d6496e"
      },
      "execution_count": 9,
      "outputs": [
        {
          "output_type": "stream",
          "name": "stdout",
          "text": [
            "CPU times: user 48.9 s, sys: 281 ms, total: 49.2 s\n",
            "Wall time: 49.2 s\n"
          ]
        }
      ]
    },
    {
      "cell_type": "code",
      "source": [
        "%%time\n",
        "test_predictions = []\n",
        "test_targets = []\n",
        "# same thing for test set\n",
        "for (u, m), target in usermovie2rating_test.items():\n",
        "    # calculate the prediction for this movie\n",
        "    prediction = predict(m, u)\n",
        "\n",
        "  # save the prediction and target\n",
        "    test_predictions.append(prediction)\n",
        "    test_targets.append(target)"
      ],
      "metadata": {
        "colab": {
          "base_uri": "https://localhost:8080/"
        },
        "id": "0e24PiNtIu7K",
        "outputId": "f4befc5c-f8d7-4852-d793-186ae0c00f4b"
      },
      "execution_count": 10,
      "outputs": [
        {
          "output_type": "stream",
          "name": "stdout",
          "text": [
            "CPU times: user 12.3 s, sys: 60.7 ms, total: 12.3 s\n",
            "Wall time: 12.3 s\n"
          ]
        }
      ]
    },
    {
      "cell_type": "code",
      "source": [
        "# calculate accuracy\n",
        "def mse(p, t):\n",
        "    p = np.array(p)\n",
        "    t = np.array(t)\n",
        "    return np.mean((p - t)**2)\n",
        "\n",
        "print('train mse:', mse(train_predictions, train_targets))\n",
        "print('test mse:', mse(test_predictions, test_targets))"
      ],
      "metadata": {
        "colab": {
          "base_uri": "https://localhost:8080/"
        },
        "id": "X-QVJESWI5jR",
        "outputId": "c0929a05-500e-4328-af8b-6f43a372ded3"
      },
      "execution_count": 11,
      "outputs": [
        {
          "output_type": "stream",
          "name": "stdout",
          "text": [
            "train mse: 0.5218819071439091\n",
            "test mse: 0.5505804410197407\n"
          ]
        }
      ]
    }
  ]
}