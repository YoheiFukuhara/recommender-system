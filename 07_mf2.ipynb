{
  "cells": [
    {
      "cell_type": "markdown",
      "metadata": {
        "id": "view-in-github",
        "colab_type": "text"
      },
      "source": [
        "<a href=\"https://colab.research.google.com/github/YoheiFukuhara/recommender-system/blob/main/07_mf2.ipynb\" target=\"_parent\"><img src=\"https://colab.research.google.com/assets/colab-badge.svg\" alt=\"Open In Colab\"/></a>"
      ]
    },
    {
      "cell_type": "code",
      "execution_count": 1,
      "metadata": {
        "colab": {
          "base_uri": "https://localhost:8080/"
        },
        "id": "49XnsdD9AJDH",
        "outputId": "d9a3a86f-2c5f-4aea-aad5-8c80bbf94d86"
      },
      "outputs": [
        {
          "output_type": "stream",
          "name": "stdout",
          "text": [
            "Mounted at /content/drive\n"
          ]
        }
      ],
      "source": [
        "from datetime import datetime\n",
        "import pickle\n",
        "\n",
        "from google.colab import drive\n",
        "import matplotlib.pyplot as plt\n",
        "import numpy as np\n",
        "\n",
        "drive.mount('/content/drive')"
      ]
    },
    {
      "cell_type": "code",
      "execution_count": 2,
      "metadata": {
        "id": "cbwUPlckBA0A"
      },
      "outputs": [],
      "source": [
        "BASE_PATH = '/content/drive/MyDrive/ColabNotebooks/ML/Recommend/output/'"
      ]
    },
    {
      "cell_type": "code",
      "execution_count": 3,
      "metadata": {
        "id": "QonNacnOAp8s"
      },
      "outputs": [],
      "source": [
        "def load_pickle(file):\n",
        "    with open(BASE_PATH+file+'.pickle', 'rb') as f:\n",
        "        return pickle.load(f)\n",
        "\n",
        "user2movie = load_pickle('user2movie')\n",
        "movie2user = load_pickle('movie2user')\n",
        "usermovie2rating = load_pickle('usermovie2rating')\n",
        "usermovie2rating_test = load_pickle('usermovie2rating_test')"
      ]
    },
    {
      "cell_type": "code",
      "execution_count": 4,
      "metadata": {
        "colab": {
          "base_uri": "https://localhost:8080/"
        },
        "id": "Oz5FQOgmA0SR",
        "outputId": "7c00b983-8044-41d6-e3bb-314f5a350843"
      },
      "outputs": [
        {
          "output_type": "stream",
          "name": "stdout",
          "text": [
            "N: 4000 M: 1000\n"
          ]
        }
      ],
      "source": [
        "N = np.max(list(user2movie.keys())) + 1\n",
        "m1 = np.max(list(movie2user.keys()))\n",
        "m2 = np.max([m for (u, m), r in usermovie2rating_test.items()])\n",
        "M = max(m1, m2) + 1\n",
        "print('N:', N, 'M:', M)  #if N is more than 10000, it takes so much time to process."
      ]
    },
    {
      "cell_type": "code",
      "source": [
        "# convert user2movie and movie2user to include ratings\n",
        "print(\"converting...\")\n",
        "\n",
        "# {user: [(movie, rating), ...]}\n",
        "user2movierating = {}\n",
        "for i, movies in user2movie.items():\n",
        "    r = np.array([usermovie2rating[(i,j)] for j in movies])\n",
        "    user2movierating[i] = (movies, r)\n",
        "\n",
        "# {movie: [(user, rating),...]}\n",
        "movie2userrating = {}\n",
        "for j, users in movie2user.items():\n",
        "    r = np.array([usermovie2rating[(i,j)] for i in users])\n",
        "    movie2userrating[j] = (users, r)\n",
        "\n",
        "# create a movie2user for test set, since we need it for loss\n",
        "# {movie: [[user, ...], [rating, ..]],]}\n",
        "movie2userrating_test = {}\n",
        "for (i, j), r in usermovie2rating_test.items():\n",
        "    if j not in movie2userrating_test:\n",
        "        movie2userrating_test[j] = [[i], [r]]\n",
        "    else:\n",
        "        movie2userrating_test[j][0].append(i)\n",
        "        movie2userrating_test[j][1].append(r)\n",
        "\n",
        "for j, (users, r) in movie2userrating_test.items():\n",
        "    movie2userrating_test[j][1] = np.array(r) # rating を配列からnumpy arrayに変換\n",
        "print(\"conversion done\")"
      ],
      "metadata": {
        "colab": {
          "base_uri": "https://localhost:8080/"
        },
        "id": "HLGm4NuaYfB2",
        "outputId": "3ad7e0e8-3610-42ee-d4b7-9a8775a06635"
      },
      "execution_count": 6,
      "outputs": [
        {
          "output_type": "stream",
          "name": "stdout",
          "text": [
            "converting...\n",
            "conversion done\n"
          ]
        }
      ]
    },
    {
      "cell_type": "code",
      "execution_count": 22,
      "metadata": {
        "id": "vtWSMLJfPntF"
      },
      "outputs": [],
      "source": [
        "K = 10 # dimension\n",
        "W = np.random.randn(N, K)\n",
        "b = np.zeros(N)\n",
        "U = np.random.randn(M, K)\n",
        "c = np.zeros(M)\n",
        "mu = np.mean(list(usermovie2rating.values()))"
      ]
    },
    {
      "cell_type": "code",
      "execution_count": 25,
      "metadata": {
        "id": "OP3gZ4wSPs0K"
      },
      "outputs": [],
      "source": [
        "def get_loss(m2u):\n",
        "    # d: movie_id -> (user_ids, ratings)\n",
        "    N = 0.\n",
        "    sse = 0\n",
        "    for j, (u_ids, r) in m2u.items():  # 複数のu_idsとr\n",
        "        pred = W[u_ids].dot(U[j]) + b[u_ids] + c[j] + mu\n",
        "        delta = pred - r\n",
        "        sse += delta.dot(delta)  # ドット積でsseはScalar \n",
        "        N += len(r)\n",
        "    # print(f'delta: {delta}, sse: {sse}, len(r):, {len(r)}')\n",
        "    return sse / N"
      ]
    },
    {
      "cell_type": "code",
      "execution_count": 26,
      "metadata": {
        "colab": {
          "base_uri": "https://localhost:8080/"
        },
        "id": "q-FSWbqHA5Y6",
        "outputId": "695254d2-4b41-4ca7-ebb6-95f726c1cde2"
      },
      "outputs": [
        {
          "output_type": "stream",
          "name": "stdout",
          "text": [
            "epoch:0\n",
            "i: 0 N: 4000\n",
            "i: 1333 N: 4000\n",
            "i: 2666 N: 4000\n",
            "i: 3999 N: 4000\n",
            "updated W and b: 0:00:22.924465\n",
            "j: 0 M: 1000\n",
            "j: 333 M: 1000\n",
            "j: 666 M: 1000\n",
            "j: 999 M: 1000\n",
            "updated U and c: 0:00:26.167304\n",
            "epoch duration: 0:00:49.091904\n",
            "calculate cost: 0:00:12.780291\n",
            "train loss: 0.5021547041778659\n",
            "test loss: 0.5373306667658683\n",
            "epoch:1\n",
            "i: 0 N: 4000\n",
            "i: 1333 N: 4000\n",
            "i: 2666 N: 4000\n",
            "i: 3999 N: 4000\n",
            "updated W and b: 0:00:30.013998\n",
            "j: 0 M: 1000\n",
            "j: 333 M: 1000\n",
            "j: 666 M: 1000\n",
            "j: 999 M: 1000\n",
            "updated U and c: 0:00:26.991974\n",
            "epoch duration: 0:00:57.006107\n",
            "calculate cost: 0:00:12.707201\n",
            "train loss: 0.500876772412561\n",
            "test loss: 0.5358368130154038\n",
            "epoch:2\n",
            "i: 0 N: 4000\n",
            "i: 1333 N: 4000\n",
            "i: 2666 N: 4000\n",
            "i: 3999 N: 4000\n",
            "updated W and b: 0:00:23.214901\n",
            "j: 0 M: 1000\n",
            "j: 333 M: 1000\n",
            "j: 666 M: 1000\n",
            "j: 999 M: 1000\n",
            "updated U and c: 0:00:32.818014\n",
            "epoch duration: 0:00:56.033057\n",
            "calculate cost: 0:00:12.413192\n",
            "train loss: 0.5002228926649958\n",
            "test loss: 0.5350689042729548\n",
            "epoch:3\n",
            "i: 0 N: 4000\n",
            "i: 1333 N: 4000\n",
            "i: 2666 N: 4000\n",
            "i: 3999 N: 4000\n",
            "updated W and b: 0:00:23.086490\n",
            "j: 0 M: 1000\n",
            "j: 333 M: 1000\n",
            "j: 666 M: 1000\n",
            "j: 999 M: 1000\n",
            "updated U and c: 0:00:26.319810\n",
            "epoch duration: 0:00:49.406419\n",
            "calculate cost: 0:00:12.648615\n",
            "train loss: 0.4998471371017766\n",
            "test loss: 0.534620234020212\n",
            "epoch:4\n",
            "i: 0 N: 4000\n",
            "i: 1333 N: 4000\n",
            "i: 2666 N: 4000\n",
            "i: 3999 N: 4000\n",
            "updated W and b: 0:00:28.499765\n",
            "j: 0 M: 1000\n",
            "j: 333 M: 1000\n",
            "j: 666 M: 1000\n",
            "j: 999 M: 1000\n",
            "updated U and c: 0:00:26.629513\n",
            "epoch duration: 0:00:55.129426\n",
            "calculate cost: 0:00:18.331794\n",
            "train loss: 0.4996207860496339\n",
            "test loss: 0.5343517789320538\n",
            "epoch:5\n",
            "i: 0 N: 4000\n",
            "i: 1333 N: 4000\n",
            "i: 2666 N: 4000\n",
            "i: 3999 N: 4000\n",
            "updated W and b: 0:00:23.265484\n",
            "j: 0 M: 1000\n",
            "j: 333 M: 1000\n",
            "j: 666 M: 1000\n",
            "j: 999 M: 1000\n",
            "updated U and c: 0:00:32.532957\n",
            "epoch duration: 0:00:55.798592\n",
            "calculate cost: 0:00:12.535980\n",
            "train loss: 0.4994768632632861\n",
            "test loss: 0.5341801382433493\n",
            "epoch:6\n",
            "i: 0 N: 4000\n",
            "i: 1333 N: 4000\n",
            "i: 2666 N: 4000\n",
            "i: 3999 N: 4000\n",
            "updated W and b: 0:00:28.555943\n",
            "j: 0 M: 1000\n",
            "j: 333 M: 1000\n",
            "j: 666 M: 1000\n",
            "j: 999 M: 1000\n",
            "updated U and c: 0:00:25.720345\n",
            "epoch duration: 0:00:54.276833\n",
            "calculate cost: 0:00:12.758536\n",
            "train loss: 0.49938333736740415\n",
            "test loss: 0.5340719111909874\n",
            "epoch:7\n",
            "i: 0 N: 4000\n",
            "i: 1333 N: 4000\n",
            "i: 2666 N: 4000\n",
            "i: 3999 N: 4000\n",
            "updated W and b: 0:00:23.005246\n",
            "j: 0 M: 1000\n",
            "j: 333 M: 1000\n",
            "j: 666 M: 1000\n",
            "j: 999 M: 1000\n",
            "updated U and c: 0:00:32.577678\n",
            "epoch duration: 0:00:55.583079\n",
            "calculate cost: 0:00:13.030224\n",
            "train loss: 0.4993205403680162\n",
            "test loss: 0.5340007835297926\n",
            "epoch:8\n",
            "i: 0 N: 4000\n",
            "i: 1333 N: 4000\n",
            "i: 2666 N: 4000\n",
            "i: 3999 N: 4000\n",
            "updated W and b: 0:00:28.859595\n",
            "j: 0 M: 1000\n",
            "j: 333 M: 1000\n",
            "j: 666 M: 1000\n",
            "j: 999 M: 1000\n",
            "updated U and c: 0:00:26.322479\n",
            "epoch duration: 0:00:55.182761\n",
            "calculate cost: 0:00:13.427073\n",
            "train loss: 0.4992779559347775\n",
            "test loss: 0.5339555396585981\n",
            "epoch:9\n",
            "i: 0 N: 4000\n",
            "i: 1333 N: 4000\n",
            "i: 2666 N: 4000\n",
            "i: 3999 N: 4000\n",
            "updated W and b: 0:00:29.067535\n",
            "j: 0 M: 1000\n",
            "j: 333 M: 1000\n",
            "j: 666 M: 1000\n",
            "j: 999 M: 1000\n",
            "updated U and c: 0:00:32.918606\n",
            "epoch duration: 0:01:01.986315\n",
            "calculate cost: 0:00:12.421067\n",
            "train loss: 0.4992483662635308\n",
            "test loss: 0.5339258498485934\n",
            "epoch:10\n",
            "i: 0 N: 4000\n",
            "i: 1333 N: 4000\n",
            "i: 2666 N: 4000\n",
            "i: 3999 N: 4000\n",
            "updated W and b: 0:00:22.819579\n",
            "j: 0 M: 1000\n",
            "j: 333 M: 1000\n",
            "j: 666 M: 1000\n",
            "j: 999 M: 1000\n",
            "updated U and c: 0:00:31.308996\n",
            "epoch duration: 0:00:54.128687\n",
            "calculate cost: 0:00:07.159648\n",
            "train loss: 0.49922769332859074\n",
            "test loss: 0.5339072489534709\n",
            "epoch:11\n",
            "i: 0 N: 4000\n",
            "i: 1333 N: 4000\n",
            "i: 2666 N: 4000\n",
            "i: 3999 N: 4000\n",
            "updated W and b: 0:00:28.459543\n",
            "j: 0 M: 1000\n",
            "j: 333 M: 1000\n",
            "j: 666 M: 1000\n",
            "j: 999 M: 1000\n",
            "updated U and c: 0:00:26.280699\n",
            "epoch duration: 0:00:54.740358\n",
            "calculate cost: 0:00:12.865417\n",
            "train loss: 0.49921294553323087\n",
            "test loss: 0.5338953554465222\n",
            "CPU times: user 13min 44s, sys: 2min, total: 15min 45s\n",
            "Wall time: 13min 31s\n"
          ]
        }
      ],
      "source": [
        "%%time\n",
        "# train the parameters\n",
        "epochs = 12  # change from original 25\n",
        "reg =20. # regularization penalty\n",
        "train_losses = []\n",
        "test_losses = []\n",
        "\n",
        "for epoch in range(epochs):\n",
        "    print(f\"epoch:{epoch}\")\n",
        "    \n",
        "    # perform updates\n",
        "    epoch_start = datetime.now()\n",
        "\n",
        "    # update W and b\n",
        "    t0 = datetime.now()\n",
        "    for i in range(N):\n",
        "\n",
        "        # 前はjで個別計算していた部分をm_idsで一括計算\n",
        "        m_ids, r = user2movierating[i]\n",
        "        matrix = U[m_ids].T.dot(U[m_ids]) + np.eye(K) * reg  # np.eyeは単位行列(ここではK*K)\n",
        "        vector = (r - b[i] - c[m_ids] - mu).dot(U[m_ids])\n",
        "        bi = (r - U[m_ids].dot(W[i]) - c[m_ids] - mu).sum()        \n",
        "        \n",
        "        # set the updates\n",
        "        W[i] = np.linalg.solve(matrix, vector)\n",
        "        b[i] = bi / (len(user2movie[i]) + reg)\n",
        "\n",
        "        if i % (N//3) == 0:\n",
        "            print(\"i:\", i, \"N:\", N)\n",
        "    print(\"updated W and b:\", datetime.now() - t0)\n",
        "\n",
        "    # update U and c\n",
        "    t0 = datetime.now()\n",
        "    for j in range(M):\n",
        "        try:\n",
        "            \n",
        "            # 前はiで個別計算していた部分をu_idsで一括計算\n",
        "            u_ids, r = movie2userrating[j]\n",
        "            matrix = W[u_ids].T.dot(W[u_ids]) + np.eye(K) * reg\n",
        "            vector = (r - b[u_ids] - c[j] - mu).dot(W[u_ids])\n",
        "            cj = (r - W[u_ids].dot(U[j]) - b[u_ids] - mu).sum()\n",
        "\n",
        "            # set the updates\n",
        "            U[j] = np.linalg.solve(matrix, vector)\n",
        "            c[j] = cj / (len(movie2user[j]) + reg)\n",
        "\n",
        "            if j % (M//3) == 0:\n",
        "              print(\"j:\", j, \"M:\", M)\n",
        "        except KeyError:\n",
        "          # possible not to have any ratings for a movie\n",
        "            pass        \n",
        "\n",
        "        except KeyError:\n",
        "            # possible not to have any ratings for a movie\n",
        "            pass\n",
        "    print(\"updated U and c:\", datetime.now() - t0)\n",
        "    print(\"epoch duration:\", datetime.now() - epoch_start)\n",
        "\n",
        "\n",
        "    # store train loss\n",
        "    t0 = datetime.now()\n",
        "    train_losses.append(get_loss(movie2userrating))\n",
        "\n",
        "    # store test loss\n",
        "    test_losses.append(get_loss(movie2userrating_test))\n",
        "    print(\"calculate cost:\", datetime.now() - t0)\n",
        "    print(\"train loss:\", train_losses[-1])\n",
        "    print(\"test loss:\", test_losses[-1])"
      ]
    },
    {
      "cell_type": "code",
      "execution_count": 27,
      "metadata": {
        "colab": {
          "base_uri": "https://localhost:8080/",
          "height": 320
        },
        "id": "RYEgOyfUIhvf",
        "outputId": "ac076b90-8522-4804-ef9d-250831d0002e"
      },
      "outputs": [
        {
          "output_type": "stream",
          "name": "stdout",
          "text": [
            "train losses: [0.5021547041778659, 0.500876772412561, 0.5002228926649958, 0.4998471371017766, 0.4996207860496339, 0.4994768632632861, 0.49938333736740415, 0.4993205403680162, 0.4992779559347775, 0.4992483662635308, 0.49922769332859074, 0.49921294553323087]\n",
            "test losses: [0.5373306667658683, 0.5358368130154038, 0.5350689042729548, 0.534620234020212, 0.5343517789320538, 0.5341801382433493, 0.5340719111909874, 0.5340007835297926, 0.5339555396585981, 0.5339258498485934, 0.5339072489534709, 0.5338953554465222]\n"
          ]
        },
        {
          "output_type": "display_data",
          "data": {
            "image/png": "[encoded data removed]",
            "text/plain": [
              "<Figure size 432x288 with 1 Axes>"
            ]
          },
          "metadata": {
            "needs_background": "light"
          }
        }
      ],
      "source": [
        "print(\"train losses:\", train_losses)\n",
        "print(\"test losses:\", test_losses)\n",
        "\n",
        "# plot losses\n",
        "plt.plot(train_losses, label=\"train loss\")\n",
        "plt.plot(test_losses, label=\"test loss\")\n",
        "plt.legend()\n",
        "plt.show()"
      ]
    },
    {
      "cell_type": "code",
      "source": [
        ""
      ],
      "metadata": {
        "id": "M0NDE1Csqy7c"
      },
      "execution_count": null,
      "outputs": []
    }
  ],
  "metadata": {
    "colab": {
      "collapsed_sections": [],
      "name": "07.mf2.ipynb",
      "provenance": [],
      "authorship_tag": "ABX9TyPU06Ewsl6GKbkpVsVLINHZ",
      "include_colab_link": true
    },
    "kernelspec": {
      "display_name": "Python 3",
      "name": "python3"
    },
    "language_info": {
      "name": "python"
    }
  },
  "nbformat": 4,
  "nbformat_minor": 0
}