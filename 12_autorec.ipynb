{
  "cells": [
    {
      "cell_type": "markdown",
      "metadata": {
        "id": "view-in-github",
        "colab_type": "text"
      },
      "source": [
        "<a href=\"https://colab.research.google.com/github/YoheiFukuhara/recommender-system/blob/main/12_autorec.ipynb\" target=\"_parent\"><img src=\"https://colab.research.google.com/assets/colab-badge.svg\" alt=\"Open In Colab\"/></a>"
      ]
    },
    {
      "cell_type": "code",
      "execution_count": null,
      "metadata": {
        "colab": {
          "base_uri": "https://localhost:8080/"
        },
        "id": "49XnsdD9AJDH",
        "outputId": "8f1e6487-be63-4d03-e664-e61346667f5e"
      },
      "outputs": [
        {
          "output_type": "stream",
          "name": "stdout",
          "text": [
            "Drive already mounted at /content/drive; to attempt to forcibly remount, call drive.mount(\"/content/drive\", force_remount=True).\n"
          ]
        }
      ],
      "source": [
        "import pandas as pd\n",
        "from scipy.sparse import load_npz\n",
        "from sklearn.model_selection import train_test_split\n",
        "from sklearn.utils import shuffle\n",
        "import tensorflow as tf\n",
        "from tensorflow.keras import backend as K\n",
        "from google.colab import drive\n",
        "import matplotlib.pyplot as plt\n",
        "\n",
        "drive.mount('/content/drive')"
      ]
    },
    {
      "cell_type": "code",
      "execution_count": null,
      "metadata": {
        "id": "cbwUPlckBA0A"
      },
      "outputs": [],
      "source": [
        "# config\n",
        "batch_size = 128\n",
        "epochs = 20\n",
        "reg = 0.0001\n",
        "\n",
        "BASE_PATH = '/content/drive/MyDrive/ColabNotebooks/ML/Recommend/output/'"
      ]
    },
    {
      "cell_type": "code",
      "source": [
        "A = load_npz(BASE_PATH+\"Atrain.npz\")\n",
        "A_test = load_npz(BASE_PATH+\"Atest.npz\")\n",
        "\n",
        "# 評価がある要素を1に変換(評価がない要素は0)\n",
        "mask = (A > 0) * 1.0\n",
        "mask_test = (A_test > 0) * 1.0"
      ],
      "metadata": {
        "id": "hKLiZQ3KqQIR"
      },
      "execution_count": null,
      "outputs": []
    },
    {
      "cell_type": "code",
      "source": [
        "print(A_test.toarray()[0][:5])\n",
        "print(mask_test.toarray()[0][:5]) # "
      ],
      "metadata": {
        "colab": {
          "base_uri": "https://localhost:8080/"
        },
        "id": "kjtPbFSluU3n",
        "outputId": "7da8efd0-422d-46a1-d41a-dd00bc2e93ec"
      },
      "execution_count": null,
      "outputs": [
        {
          "output_type": "stream",
          "name": "stdout",
          "text": [
            "[0. 0. 0. 4. 0.]\n",
            "[0. 0. 0. 1. 0.]\n"
          ]
        }
      ]
    },
    {
      "cell_type": "code",
      "execution_count": null,
      "metadata": {
        "id": "QonNacnOAp8s"
      },
      "outputs": [],
      "source": [
        "# make copies since we will shuffle\n",
        "A_copy = A.copy()\n",
        "mask_copy = mask.copy()\n",
        "A_test_copy = A_test.copy()\n",
        "mask_test_copy = mask_test.copy()"
      ]
    },
    {
      "cell_type": "code",
      "execution_count": null,
      "metadata": {
        "id": "Oz5FQOgmA0SR",
        "colab": {
          "base_uri": "https://localhost:8080/"
        },
        "outputId": "b22b5a9a-d52a-462e-8d1a-ae952f6cb0d2"
      },
      "outputs": [
        {
          "output_type": "stream",
          "name": "stdout",
          "text": [
            "N: 4000 M: 1000\n",
            "N // batch_size: 31\n"
          ]
        }
      ],
      "source": [
        "N, M = A.shape\n",
        "print(\"N:\", N, \"M:\", M)\n",
        "print(\"N // batch_size:\", N // batch_size)"
      ]
    },
    {
      "cell_type": "code",
      "source": [
        "# center the data\n",
        "mu = A.sum() / mask.sum()\n",
        "print(\"mu:\", mu)"
      ],
      "metadata": {
        "id": "HLGm4NuaYfB2",
        "colab": {
          "base_uri": "https://localhost:8080/"
        },
        "outputId": "29dd8bbd-acca-4e3d-a1ab-abca5a12233d"
      },
      "execution_count": null,
      "outputs": [
        {
          "output_type": "stream",
          "name": "stdout",
          "text": [
            "mu: 3.4696366855086516\n"
          ]
        }
      ]
    },
    {
      "cell_type": "code",
      "source": [
        "def custom_loss(y_true, y_pred):\n",
        "\n",
        "    # 正解ラベルが0以外の場合は型をfloatに設定\n",
        "    mask = K.cast(K.not_equal(y_true, 0), dtype='float32')\n",
        "\n",
        "    # 自乗にmaskを乗算することで評価がある場合のみ算出できる\n",
        "    diff = y_pred - y_true\n",
        "    sqdiff = diff * diff * mask\n",
        "    sse = K.sum(K.sum(sqdiff)) # おそらく Sum Square Error\n",
        "    n = K.sum(K.sum(mask)) # 評価ある場合の件数を分母に設定\n",
        "    return sse / n"
      ],
      "metadata": {
        "id": "Z0NFV8zYsv8p"
      },
      "execution_count": null,
      "outputs": []
    },
    {
      "cell_type": "code",
      "execution_count": null,
      "metadata": {
        "id": "OP3gZ4wSPs0K",
        "colab": {
          "base_uri": "https://localhost:8080/",
          "height": 717
        },
        "outputId": "1d471a8c-7f51-4dad-c069-ac81a6ed0a2b"
      },
      "outputs": [
        {
          "output_type": "stream",
          "name": "stdout",
          "text": [
            "Model: \"model\"\n",
            "_________________________________________________________________\n",
            " Layer (type)                Output Shape              Param #   \n",
            "=================================================================\n",
            " input_1 (InputLayer)        [(None, 1000)]            0         \n",
            "                                                                 \n",
            " dropout (Dropout)           (None, 1000)              0         \n",
            "                                                                 \n",
            " dense (Dense)               (None, 700)               700700    \n",
            "                                                                 \n",
            " dense_1 (Dense)             (None, 1000)              701000    \n",
            "                                                                 \n",
            "=================================================================\n",
            "Total params: 1,401,700\n",
            "Trainable params: 1,401,700\n",
            "Non-trainable params: 0\n",
            "_________________________________________________________________\n"
          ]
        },
        {
          "output_type": "execute_result",
          "data": {
            "image/png": "[encoded data removed]",
            "text/plain": [
              "<IPython.core.display.Image object>"
            ]
          },
          "metadata": {},
          "execution_count": 15
        }
      ],
      "source": [
        "# build the model - just a 1 hidden layer autoencoder\n",
        "i = tf.keras.layers.Input(shape=(M,))\n",
        "# bigger hidden layer size seems to help!\n",
        "x = tf.keras.layers.Dropout(0.7)(i)\n",
        "x = tf.keras.layers.Dense(700, activation='tanh', \n",
        "                          kernel_regularizer=tf.keras.regularizers.l2(reg))(x)\n",
        "x = tf.keras.layers.Dense(M, \n",
        "                          kernel_regularizer=tf.keras.regularizers.l2(reg))(x)\n",
        "\n",
        "model = tf.keras.models.Model(inputs=i, outputs=x)\n",
        "model.compile(\n",
        "  loss=custom_loss,\n",
        "  optimizer=tf.keras.optimizers.SGD(learning_rate=0.08, momentum=0.9),\n",
        "  metrics=[custom_loss],\n",
        ")\n",
        "model.summary()\n",
        "tf.keras.utils.plot_model(model, show_shapes=True)"
      ]
    },
    {
      "cell_type": "code",
      "source": [
        "def generator(A, M):\n",
        "    while True:\n",
        "        A, M = shuffle(A, M)\n",
        "        for i in range(A.shape[0] // batch_size + 1): # ステップ数 を バッチサイズで除算 + 1回 繰り返す\n",
        "            upper = min((i+1)*batch_size, A.shape[0]) # 処理対象行数(上限側)\n",
        "            a = A[i*batch_size:upper].toarray()\n",
        "            m = M[i*batch_size:upper].toarray()\n",
        "            a = a - mu * m # must keep zeros at zero!\n",
        "            # m2 = (np.random.random(a.shape) > 0.5)\n",
        "            # noisy = a * m2\n",
        "            noisy = a # no noise\n",
        "            yield noisy, a\n",
        "\n",
        "\n",
        "def test_generator(A, M, A_test, M_test):\n",
        "  # assumes A and A_test are in corresponding order\n",
        "  # both of size N x M\n",
        "    while True:\n",
        "        for i in range(A.shape[0] // batch_size + 1):\n",
        "            upper = min((i+1)*batch_size, A.shape[0])\n",
        "            a = A[i*batch_size:upper].toarray()\n",
        "            m = M[i*batch_size:upper].toarray()\n",
        "            at = A_test[i*batch_size:upper].toarray()\n",
        "            mt = M_test[i*batch_size:upper].toarray()\n",
        "            a = a - mu * m  # predict\n",
        "            at = at - mu * mt # 正解ラベル(Lossは正解ラベルにあるものだけが反映)\n",
        "            yield a, at"
      ],
      "metadata": {
        "id": "WW7gUe0Fs2YD"
      },
      "execution_count": null,
      "outputs": []
    },
    {
      "cell_type": "code",
      "execution_count": null,
      "metadata": {
        "colab": {
          "base_uri": "https://localhost:8080/"
        },
        "id": "q-FSWbqHA5Y6",
        "outputId": "5ccc883b-8b34-4df2-b9d3-ed0b408f9518"
      },
      "outputs": [
        {
          "output_type": "stream",
          "name": "stdout",
          "text": [
            "Epoch 1/15\n",
            "32/32 [==============================] - 1s 18ms/step - loss: 0.6745 - custom_loss: 0.5563 - val_loss: 0.7042 - val_custom_loss: 0.5867\n",
            "Epoch 2/15\n",
            "32/32 [==============================] - 0s 12ms/step - loss: 0.6661 - custom_loss: 0.5509 - val_loss: 0.6999 - val_custom_loss: 0.5841\n",
            "Epoch 3/15\n",
            "32/32 [==============================] - 0s 13ms/step - loss: 0.6582 - custom_loss: 0.5421 - val_loss: 0.6956 - val_custom_loss: 0.5815\n",
            "Epoch 4/15\n",
            "32/32 [==============================] - 0s 13ms/step - loss: 0.6514 - custom_loss: 0.5390 - val_loss: 0.6916 - val_custom_loss: 0.5793\n",
            "Epoch 5/15\n",
            "32/32 [==============================] - 1s 17ms/step - loss: 0.6424 - custom_loss: 0.5306 - val_loss: 0.6879 - val_custom_loss: 0.5772\n",
            "Epoch 6/15\n",
            "32/32 [==============================] - 1s 16ms/step - loss: 0.6362 - custom_loss: 0.5261 - val_loss: 0.6841 - val_custom_loss: 0.5749\n",
            "Epoch 7/15\n",
            "32/32 [==============================] - 0s 13ms/step - loss: 0.6311 - custom_loss: 0.5234 - val_loss: 0.6807 - val_custom_loss: 0.5731\n",
            "Epoch 8/15\n",
            "32/32 [==============================] - 0s 13ms/step - loss: 0.6240 - custom_loss: 0.5167 - val_loss: 0.6776 - val_custom_loss: 0.5714\n",
            "Epoch 9/15\n",
            "32/32 [==============================] - 1s 17ms/step - loss: 0.6197 - custom_loss: 0.5155 - val_loss: 0.6742 - val_custom_loss: 0.5695\n",
            "Epoch 10/15\n",
            "32/32 [==============================] - 1s 17ms/step - loss: 0.6127 - custom_loss: 0.5080 - val_loss: 0.6712 - val_custom_loss: 0.5678\n",
            "Epoch 11/15\n",
            "32/32 [==============================] - 0s 12ms/step - loss: 0.6087 - custom_loss: 0.5080 - val_loss: 0.6681 - val_custom_loss: 0.5662\n",
            "Epoch 12/15\n",
            "32/32 [==============================] - 1s 17ms/step - loss: 0.6035 - custom_loss: 0.5015 - val_loss: 0.6661 - val_custom_loss: 0.5654\n",
            "Epoch 13/15\n",
            "32/32 [==============================] - 1s 17ms/step - loss: 0.5994 - custom_loss: 0.4998 - val_loss: 0.6630 - val_custom_loss: 0.5637\n",
            "Epoch 14/15\n",
            "32/32 [==============================] - 1s 17ms/step - loss: 0.5951 - custom_loss: 0.4972 - val_loss: 0.6606 - val_custom_loss: 0.5625\n",
            "Epoch 15/15\n",
            "32/32 [==============================] - 0s 13ms/step - loss: 0.5895 - custom_loss: 0.4917 - val_loss: 0.6581 - val_custom_loss: 0.5612\n",
            "dict_keys(['loss', 'custom_loss', 'val_loss', 'val_custom_loss'])\n",
            "CPU times: user 7.78 s, sys: 694 ms, total: 8.48 s\n",
            "Wall time: 7.29 s\n"
          ]
        }
      ],
      "source": [
        "%%time\n",
        "# fit_generator is deprecated, so change from fit_generator to fit\n",
        "r = model.fit(\n",
        "  generator(A, mask),\n",
        "  validation_data=test_generator(A_copy, mask_copy, A_test_copy, mask_test_copy),\n",
        "  epochs=epochs,\n",
        "  steps_per_epoch=A.shape[0] // batch_size + 1,\n",
        "  validation_steps=A_test.shape[0] // batch_size + 1,\n",
        "  callbacks=[tf.keras.callbacks.EarlyStopping(patience=2, restore_best_weights=True)]\n",
        ")\n",
        "print(r.history.keys())"
      ]
    },
    {
      "cell_type": "code",
      "execution_count": null,
      "metadata": {
        "id": "RYEgOyfUIhvf",
        "colab": {
          "base_uri": "https://localhost:8080/",
          "height": 513
        },
        "outputId": "f3ff0794-08ba-458d-90e7-28365a0a7222"
      },
      "outputs": [
        {
          "output_type": "display_data",
          "data": {
            "image/png": "[encoded data removed]",
            "text/plain": [
              "<Figure size 432x288 with 1 Axes>"
            ]
          },
          "metadata": {
            "needs_background": "light"
          }
        },
        {
          "output_type": "display_data",
          "data": {
            "image/png": "[encoded data removed]",
            "text/plain": [
              "<Figure size 432x288 with 1 Axes>"
            ]
          },
          "metadata": {
            "needs_background": "light"
          }
        }
      ],
      "source": [
        "# plot losses\n",
        "plt.plot(r.history['loss'], label=\"train loss\")\n",
        "plt.plot(r.history['val_loss'], label=\"test loss\")\n",
        "plt.legend()\n",
        "plt.show()\n",
        "\n",
        "# plot mse\n",
        "plt.plot(r.history['custom_loss'], label=\"train mse\")\n",
        "plt.plot(r.history['val_custom_loss'], label=\"test mse\")\n",
        "plt.legend()\n",
        "plt.show()"
      ]
    },
    {
      "cell_type": "code",
      "source": [
        ""
      ],
      "metadata": {
        "id": "9eO_9kLhfJjr"
      },
      "execution_count": null,
      "outputs": []
    }
  ],
  "metadata": {
    "colab": {
      "collapsed_sections": [],
      "name": "12.autorec.ipynb",
      "provenance": [],
      "authorship_tag": "ABX9TyMU+tdc2ZtaIqyvM2CEXAi5",
      "include_colab_link": true
    },
    "kernelspec": {
      "display_name": "Python 3",
      "name": "python3"
    },
    "language_info": {
      "name": "python"
    },
    "accelerator": "GPU"
  },
  "nbformat": 4,
  "nbformat_minor": 0
}