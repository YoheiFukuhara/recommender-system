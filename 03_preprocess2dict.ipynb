{
  "nbformat": 4,
  "nbformat_minor": 0,
  "metadata": {
    "colab": {
      "name": "03.preprocess2dict.ipynb",
      "provenance": [],
      "authorship_tag": "ABX9TyM9J3/Q8EyDy+AFGfogHthi",
      "include_colab_link": true
    },
    "kernelspec": {
      "name": "python3",
      "display_name": "Python 3"
    },
    "language_info": {
      "name": "python"
    }
  },
  "cells": [
    {
      "cell_type": "markdown",
      "metadata": {
        "id": "view-in-github",
        "colab_type": "text"
      },
      "source": [
        "<a href=\"https://colab.research.google.com/github/YoheiFukuhara/recommender-system/blob/main/03_preprocess2dict.ipynb\" target=\"_parent\"><img src=\"https://colab.research.google.com/assets/colab-badge.svg\" alt=\"Open In Colab\"/></a>"
      ]
    },
    {
      "cell_type": "code",
      "metadata": {
        "colab": {
          "base_uri": "https://localhost:8080/"
        },
        "id": "5w7mqKgbMgFr",
        "outputId": "86a40810-d92b-45d1-ef5e-937a33fcf456"
      },
      "source": [
        "import pickle\n",
        "\n",
        "import pandas as pd\n",
        "from google.colab import drive\n",
        "from sklearn.model_selection import train_test_split\n",
        "\n",
        "drive.mount('/content/drive')"
      ],
      "execution_count": null,
      "outputs": [
        {
          "output_type": "stream",
          "name": "stdout",
          "text": [
            "Drive already mounted at /content/drive; to attempt to forcibly remount, call drive.mount(\"/content/drive\", force_remount=True).\n"
          ]
        }
      ]
    },
    {
      "cell_type": "code",
      "metadata": {
        "id": "TrP3zLeiMqox"
      },
      "source": [
        "BASE_PATH = '/content/drive/MyDrive/ColabNotebooks/ML/Recommend/output/'\n",
        "df = pd.read_csv(BASE_PATH+'very_small_rating.csv')"
      ],
      "execution_count": null,
      "outputs": []
    },
    {
      "cell_type": "code",
      "metadata": {
        "id": "OBjsPoJBM-0i"
      },
      "source": [
        "cutoff = int(0.8*len(df))\n",
        "df_train, df_test = train_test_split(df, train_size=cutoff)"
      ],
      "execution_count": null,
      "outputs": []
    },
    {
      "cell_type": "code",
      "metadata": {
        "id": "JIKGfbBMN_jY"
      },
      "source": [
        "user2movie = {}\n",
        "movie2user = {}\n",
        "usermovie2rating = {}\n",
        "count = 0"
      ],
      "execution_count": null,
      "outputs": []
    },
    {
      "cell_type": "code",
      "metadata": {
        "colab": {
          "base_uri": "https://localhost:8080/"
        },
        "id": "TPZJFOT6OH39",
        "outputId": "5eed1103-c9ae-4aa6-874f-c2402e50911b"
      },
      "source": [
        "%%time\n",
        "def update_user2movie_and_movie2user(row):\n",
        "    global count\n",
        "    count += 1\n",
        "    if count % 500000 == 0:\n",
        "        print('processed: %.3f' % (float(count)/cutoff))\n",
        "    i = int(row.userId)\n",
        "    j = int(row.movie_idx)\n",
        "    if i not in user2movie:\n",
        "        user2movie[i] = [j]\n",
        "    else:\n",
        "        user2movie[i].append(j) #リストで複数持つ\n",
        "\n",
        "    if j not in movie2user:\n",
        "        movie2user[j] = [i]\n",
        "    else:\n",
        "        movie2user[j].append(i) #リストで複数持つ\n",
        "    \n",
        "    usermovie2rating[(i,j)] = row.rating\n",
        "\n",
        "df_train.apply(update_user2movie_and_movie2user, axis=1)"
      ],
      "execution_count": null,
      "outputs": [
        {
          "output_type": "stream",
          "name": "stdout",
          "text": [
            "processed: 0.116\n",
            "processed: 0.232\n",
            "processed: 0.348\n",
            "processed: 0.464\n",
            "processed: 0.580\n",
            "processed: 0.695\n",
            "processed: 0.811\n",
            "processed: 0.927\n",
            "CPU times: user 2min 22s, sys: 1.69 s, total: 2min 23s\n",
            "Wall time: 2min 24s\n"
          ]
        }
      ]
    },
    {
      "cell_type": "code",
      "metadata": {
        "colab": {
          "base_uri": "https://localhost:8080/"
        },
        "id": "d-ALa3rLPtiX",
        "outputId": "f894a7b8-9fe5-4a3e-e956-497fb8295733"
      },
      "source": [
        "%%time\n",
        "usermovie2rating_test = {}\n",
        "count = 0\n",
        "def update_usermovie2rating_test(row):\n",
        "    global count\n",
        "    count += 1\n",
        "    if count % 100000 == 0:\n",
        "        print('processed: %.3f' % (float(count)/cutoff))\n",
        "    i = int(row.userId)\n",
        "    j = int(row.movie_idx)    \n",
        "    usermovie2rating_test[(i,j)] = row.rating\n",
        "\n",
        "df_test.apply(update_usermovie2rating_test, axis=1)"
      ],
      "execution_count": null,
      "outputs": [
        {
          "output_type": "stream",
          "name": "stdout",
          "text": [
            "processed: 0.023\n",
            "processed: 0.046\n",
            "processed: 0.070\n",
            "processed: 0.093\n",
            "processed: 0.116\n",
            "processed: 0.139\n",
            "processed: 0.162\n",
            "processed: 0.185\n",
            "processed: 0.209\n",
            "processed: 0.232\n",
            "CPU times: user 37.5 s, sys: 876 ms, total: 38.4 s\n",
            "Wall time: 38.4 s\n"
          ]
        }
      ]
    },
    {
      "cell_type": "code",
      "metadata": {
        "id": "tFTNtJqzQ5il"
      },
      "source": [
        "def dump_as_pickle(variable, file):\n",
        "    with open(BASE_PATH+file+'.pickle', 'wb') as f:\n",
        "        pickle.dump(variable, f)\n",
        "\n",
        "dump_as_pickle(user2movie, 'user2movie')\n",
        "dump_as_pickle(movie2user, 'movie2user')\n",
        "dump_as_pickle(usermovie2rating, 'usermovie2rating')\n",
        "dump_as_pickle(usermovie2rating_test, 'usermovie2rating_test')"
      ],
      "execution_count": null,
      "outputs": []
    },
    {
      "cell_type": "code",
      "metadata": {
        "id": "bkDS9ax1UHUs"
      },
      "source": [
        ""
      ],
      "execution_count": null,
      "outputs": []
    }
  ]
}