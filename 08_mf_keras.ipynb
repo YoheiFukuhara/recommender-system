{
  "cells": [
    {
      "cell_type": "markdown",
      "metadata": {
        "id": "view-in-github",
        "colab_type": "text"
      },
      "source": [
        "<a href=\"https://colab.research.google.com/github/YoheiFukuhara/recommender-system/blob/main/08_mf_keras.ipynb\" target=\"_parent\"><img src=\"https://colab.research.google.com/assets/colab-badge.svg\" alt=\"Open In Colab\"/></a>"
      ]
    },
    {
      "cell_type": "code",
      "execution_count": 1,
      "metadata": {
        "colab": {
          "base_uri": "https://localhost:8080/"
        },
        "id": "49XnsdD9AJDH",
        "outputId": "fb481d1b-0557-4db4-9715-0d6276708fbb"
      },
      "outputs": [
        {
          "output_type": "stream",
          "name": "stdout",
          "text": [
            "Drive already mounted at /content/drive; to attempt to forcibly remount, call drive.mount(\"/content/drive\", force_remount=True).\n"
          ]
        }
      ],
      "source": [
        "import pandas as pd\n",
        "from sklearn.model_selection import train_test_split\n",
        "import tensorflow as tf\n",
        "from google.colab import drive\n",
        "import matplotlib.pyplot as plt\n",
        "\n",
        "drive.mount('/content/drive')"
      ]
    },
    {
      "cell_type": "code",
      "execution_count": 2,
      "metadata": {
        "id": "cbwUPlckBA0A",
        "colab": {
          "base_uri": "https://localhost:8080/",
          "height": 898
        },
        "outputId": "0cffbd1b-1a0e-4fff-fd8d-4d6d398ba8c6"
      },
      "outputs": [
        {
          "output_type": "stream",
          "name": "stdout",
          "text": [
            "<class 'pandas.core.frame.DataFrame'>\n",
            "RangeIndex: 1982718 entries, 0 to 1982717\n",
            "Data columns (total 4 columns):\n",
            " #   Column     Dtype  \n",
            "---  ------     -----  \n",
            " 0   userId     int64  \n",
            " 1   movieId    int64  \n",
            " 2   rating     float64\n",
            " 3   movie_idx  int64  \n",
            "dtypes: float64(1), int64(3)\n",
            "memory usage: 60.5 MB\n"
          ]
        },
        {
          "output_type": "display_data",
          "data": {
            "text/html": [
              "\n",
              "  <div id=\"df-975c98a3-df3f-45bf-a11a-f2b6a4ec6b2b\">\n",
              "    <div class=\"colab-df-container\">\n",
              "      <div>\n",
              "<style scoped>\n",
              "    .dataframe tbody tr th:only-of-type {\n",
              "        vertical-align: middle;\n",
              "    }\n",
              "\n",
              "    .dataframe tbody tr th {\n",
              "        vertical-align: top;\n",
              "    }\n",
              "\n",
              "    .dataframe thead th {\n",
              "        text-align: right;\n",
              "    }\n",
              "</style>\n",
              "<table border=\"1\" class=\"dataframe\">\n",
              "  <thead>\n",
              "    <tr style=\"text-align: right;\">\n",
              "      <th></th>\n",
              "      <th>userId</th>\n",
              "      <th>movieId</th>\n",
              "      <th>rating</th>\n",
              "      <th>movie_idx</th>\n",
              "    </tr>\n",
              "  </thead>\n",
              "  <tbody>\n",
              "    <tr>\n",
              "      <th>count</th>\n",
              "      <td>1982718.00</td>\n",
              "      <td>1982718.00</td>\n",
              "      <td>1982718.00</td>\n",
              "      <td>1982718.00</td>\n",
              "    </tr>\n",
              "    <tr>\n",
              "      <th>mean</th>\n",
              "      <td>1796.93</td>\n",
              "      <td>5116.48</td>\n",
              "      <td>3.47</td>\n",
              "      <td>417.32</td>\n",
              "    </tr>\n",
              "    <tr>\n",
              "      <th>std</th>\n",
              "      <td>1164.18</td>\n",
              "      <td>11798.80</td>\n",
              "      <td>1.00</td>\n",
              "      <td>287.50</td>\n",
              "    </tr>\n",
              "    <tr>\n",
              "      <th>min</th>\n",
              "      <td>0.00</td>\n",
              "      <td>1.00</td>\n",
              "      <td>0.50</td>\n",
              "      <td>0.00</td>\n",
              "    </tr>\n",
              "    <tr>\n",
              "      <th>25%</th>\n",
              "      <td>765.00</td>\n",
              "      <td>1029.00</td>\n",
              "      <td>3.00</td>\n",
              "      <td>162.00</td>\n",
              "    </tr>\n",
              "    <tr>\n",
              "      <th>50%</th>\n",
              "      <td>1703.00</td>\n",
              "      <td>1997.00</td>\n",
              "      <td>3.50</td>\n",
              "      <td>379.00</td>\n",
              "    </tr>\n",
              "    <tr>\n",
              "      <th>75%</th>\n",
              "      <td>2776.00</td>\n",
              "      <td>3578.00</td>\n",
              "      <td>4.00</td>\n",
              "      <td>651.00</td>\n",
              "    </tr>\n",
              "    <tr>\n",
              "      <th>max</th>\n",
              "      <td>3999.00</td>\n",
              "      <td>81845.00</td>\n",
              "      <td>5.00</td>\n",
              "      <td>999.00</td>\n",
              "    </tr>\n",
              "  </tbody>\n",
              "</table>\n",
              "</div>\n",
              "      <button class=\"colab-df-convert\" onclick=\"convertToInteractive('df-975c98a3-df3f-45bf-a11a-f2b6a4ec6b2b')\"\n",
              "              title=\"Convert this dataframe to an interactive table.\"\n",
              "              style=\"display:none;\">\n",
              "        \n",
              "  <svg xmlns=\"http://www.w3.org/2000/svg\" height=\"24px\"viewBox=\"0 0 24 24\"\n",
              "       width=\"24px\">\n",
              "    <path d=\"M0 0h24v24H0V0z\" fill=\"none\"/>\n",
              "    <path d=\"M18.56 5.44l.94 2.06.94-2.06 2.06-.94-2.06-.94-.94-2.06-.94 2.06-2.06.94zm-11 1L8.5 8.5l.94-2.06 2.06-.94-2.06-.94L8.5 2.5l-.94 2.06-2.06.94zm10 10l.94 2.06.94-2.06 2.06-.94-2.06-.94-.94-2.06-.94 2.06-2.06.94z\"/><path d=\"M17.41 7.96l-1.37-1.37c-.4-.4-.92-.59-1.43-.59-.52 0-1.04.2-1.43.59L10.3 9.45l-7.72 7.72c-.78.78-.78 2.05 0 2.83L4 21.41c.39.39.9.59 1.41.59.51 0 1.02-.2 1.41-.59l7.78-7.78 2.81-2.81c.8-.78.8-2.07 0-2.86zM5.41 20L4 18.59l7.72-7.72 1.47 1.35L5.41 20z\"/>\n",
              "  </svg>\n",
              "      </button>\n",
              "      \n",
              "  <style>\n",
              "    .colab-df-container {\n",
              "      display:flex;\n",
              "      flex-wrap:wrap;\n",
              "      gap: 12px;\n",
              "    }\n",
              "\n",
              "    .colab-df-convert {\n",
              "      background-color: #E8F0FE;\n",
              "      border: none;\n",
              "      border-radius: 50%;\n",
              "      cursor: pointer;\n",
              "      display: none;\n",
              "      fill: #1967D2;\n",
              "      height: 32px;\n",
              "      padding: 0 0 0 0;\n",
              "      width: 32px;\n",
              "    }\n",
              "\n",
              "    .colab-df-convert:hover {\n",
              "      background-color: #E2EBFA;\n",
              "      box-shadow: 0px 1px 2px rgba(60, 64, 67, 0.3), 0px 1px 3px 1px rgba(60, 64, 67, 0.15);\n",
              "      fill: #174EA6;\n",
              "    }\n",
              "\n",
              "    [theme=dark] .colab-df-convert {\n",
              "      background-color: #3B4455;\n",
              "      fill: #D2E3FC;\n",
              "    }\n",
              "\n",
              "    [theme=dark] .colab-df-convert:hover {\n",
              "      background-color: #434B5C;\n",
              "      box-shadow: 0px 1px 3px 1px rgba(0, 0, 0, 0.15);\n",
              "      filter: drop-shadow(0px 1px 2px rgba(0, 0, 0, 0.3));\n",
              "      fill: #FFFFFF;\n",
              "    }\n",
              "  </style>\n",
              "\n",
              "      <script>\n",
              "        const buttonEl =\n",
              "          document.querySelector('#df-975c98a3-df3f-45bf-a11a-f2b6a4ec6b2b button.colab-df-convert');\n",
              "        buttonEl.style.display =\n",
              "          google.colab.kernel.accessAllowed ? 'block' : 'none';\n",
              "\n",
              "        async function convertToInteractive(key) {\n",
              "          const element = document.querySelector('#df-975c98a3-df3f-45bf-a11a-f2b6a4ec6b2b');\n",
              "          const dataTable =\n",
              "            await google.colab.kernel.invokeFunction('convertToInteractive',\n",
              "                                                     [key], {});\n",
              "          if (!dataTable) return;\n",
              "\n",
              "          const docLinkHtml = 'Like what you see? Visit the ' +\n",
              "            '<a target=\"_blank\" href=https://colab.research.google.com/notebooks/data_table.ipynb>data table notebook</a>'\n",
              "            + ' to learn more about interactive tables.';\n",
              "          element.innerHTML = '';\n",
              "          dataTable['output_type'] = 'display_data';\n",
              "          await google.colab.output.renderOutput(dataTable, element);\n",
              "          const docLink = document.createElement('div');\n",
              "          docLink.innerHTML = docLinkHtml;\n",
              "          element.appendChild(docLink);\n",
              "        }\n",
              "      </script>\n",
              "    </div>\n",
              "  </div>\n",
              "  "
            ],
            "text/plain": [
              "          userId    movieId     rating  movie_idx\n",
              "count 1982718.00 1982718.00 1982718.00 1982718.00\n",
              "mean     1796.93    5116.48       3.47     417.32\n",
              "std      1164.18   11798.80       1.00     287.50\n",
              "min         0.00       1.00       0.50       0.00\n",
              "25%       765.00    1029.00       3.00     162.00\n",
              "50%      1703.00    1997.00       3.50     379.00\n",
              "75%      2776.00    3578.00       4.00     651.00\n",
              "max      3999.00   81845.00       5.00     999.00"
            ]
          },
          "metadata": {}
        },
        {
          "output_type": "display_data",
          "data": {
            "text/html": [
              "\n",
              "  <div id=\"df-ccac4db4-62a7-4eff-b899-c040667725e8\">\n",
              "    <div class=\"colab-df-container\">\n",
              "      <div>\n",
              "<style scoped>\n",
              "    .dataframe tbody tr th:only-of-type {\n",
              "        vertical-align: middle;\n",
              "    }\n",
              "\n",
              "    .dataframe tbody tr th {\n",
              "        vertical-align: top;\n",
              "    }\n",
              "\n",
              "    .dataframe thead th {\n",
              "        text-align: right;\n",
              "    }\n",
              "</style>\n",
              "<table border=\"1\" class=\"dataframe\">\n",
              "  <thead>\n",
              "    <tr style=\"text-align: right;\">\n",
              "      <th></th>\n",
              "      <th>userId</th>\n",
              "      <th>movieId</th>\n",
              "      <th>rating</th>\n",
              "      <th>movie_idx</th>\n",
              "    </tr>\n",
              "  </thead>\n",
              "  <tbody>\n",
              "    <tr>\n",
              "      <th>0</th>\n",
              "      <td>3863</td>\n",
              "      <td>1</td>\n",
              "      <td>4.00</td>\n",
              "      <td>10</td>\n",
              "    </tr>\n",
              "    <tr>\n",
              "      <th>1</th>\n",
              "      <td>3863</td>\n",
              "      <td>2</td>\n",
              "      <td>3.00</td>\n",
              "      <td>125</td>\n",
              "    </tr>\n",
              "    <tr>\n",
              "      <th>2</th>\n",
              "      <td>3863</td>\n",
              "      <td>5</td>\n",
              "      <td>3.00</td>\n",
              "      <td>359</td>\n",
              "    </tr>\n",
              "    <tr>\n",
              "      <th>3</th>\n",
              "      <td>3863</td>\n",
              "      <td>6</td>\n",
              "      <td>3.00</td>\n",
              "      <td>104</td>\n",
              "    </tr>\n",
              "    <tr>\n",
              "      <th>4</th>\n",
              "      <td>3863</td>\n",
              "      <td>10</td>\n",
              "      <td>4.00</td>\n",
              "      <td>68</td>\n",
              "    </tr>\n",
              "    <tr>\n",
              "      <th>...</th>\n",
              "      <td>...</td>\n",
              "      <td>...</td>\n",
              "      <td>...</td>\n",
              "      <td>...</td>\n",
              "    </tr>\n",
              "    <tr>\n",
              "      <th>1982713</th>\n",
              "      <td>3457</td>\n",
              "      <td>74458</td>\n",
              "      <td>3.50</td>\n",
              "      <td>846</td>\n",
              "    </tr>\n",
              "    <tr>\n",
              "      <th>1982714</th>\n",
              "      <td>3457</td>\n",
              "      <td>78499</td>\n",
              "      <td>4.00</td>\n",
              "      <td>860</td>\n",
              "    </tr>\n",
              "    <tr>\n",
              "      <th>1982715</th>\n",
              "      <td>3457</td>\n",
              "      <td>79132</td>\n",
              "      <td>4.50</td>\n",
              "      <td>287</td>\n",
              "    </tr>\n",
              "    <tr>\n",
              "      <th>1982716</th>\n",
              "      <td>3457</td>\n",
              "      <td>80463</td>\n",
              "      <td>4.00</td>\n",
              "      <td>954</td>\n",
              "    </tr>\n",
              "    <tr>\n",
              "      <th>1982717</th>\n",
              "      <td>3457</td>\n",
              "      <td>81591</td>\n",
              "      <td>4.00</td>\n",
              "      <td>950</td>\n",
              "    </tr>\n",
              "  </tbody>\n",
              "</table>\n",
              "<p>1982718 rows × 4 columns</p>\n",
              "</div>\n",
              "      <button class=\"colab-df-convert\" onclick=\"convertToInteractive('df-ccac4db4-62a7-4eff-b899-c040667725e8')\"\n",
              "              title=\"Convert this dataframe to an interactive table.\"\n",
              "              style=\"display:none;\">\n",
              "        \n",
              "  <svg xmlns=\"http://www.w3.org/2000/svg\" height=\"24px\"viewBox=\"0 0 24 24\"\n",
              "       width=\"24px\">\n",
              "    <path d=\"M0 0h24v24H0V0z\" fill=\"none\"/>\n",
              "    <path d=\"M18.56 5.44l.94 2.06.94-2.06 2.06-.94-2.06-.94-.94-2.06-.94 2.06-2.06.94zm-11 1L8.5 8.5l.94-2.06 2.06-.94-2.06-.94L8.5 2.5l-.94 2.06-2.06.94zm10 10l.94 2.06.94-2.06 2.06-.94-2.06-.94-.94-2.06-.94 2.06-2.06.94z\"/><path d=\"M17.41 7.96l-1.37-1.37c-.4-.4-.92-.59-1.43-.59-.52 0-1.04.2-1.43.59L10.3 9.45l-7.72 7.72c-.78.78-.78 2.05 0 2.83L4 21.41c.39.39.9.59 1.41.59.51 0 1.02-.2 1.41-.59l7.78-7.78 2.81-2.81c.8-.78.8-2.07 0-2.86zM5.41 20L4 18.59l7.72-7.72 1.47 1.35L5.41 20z\"/>\n",
              "  </svg>\n",
              "      </button>\n",
              "      \n",
              "  <style>\n",
              "    .colab-df-container {\n",
              "      display:flex;\n",
              "      flex-wrap:wrap;\n",
              "      gap: 12px;\n",
              "    }\n",
              "\n",
              "    .colab-df-convert {\n",
              "      background-color: #E8F0FE;\n",
              "      border: none;\n",
              "      border-radius: 50%;\n",
              "      cursor: pointer;\n",
              "      display: none;\n",
              "      fill: #1967D2;\n",
              "      height: 32px;\n",
              "      padding: 0 0 0 0;\n",
              "      width: 32px;\n",
              "    }\n",
              "\n",
              "    .colab-df-convert:hover {\n",
              "      background-color: #E2EBFA;\n",
              "      box-shadow: 0px 1px 2px rgba(60, 64, 67, 0.3), 0px 1px 3px 1px rgba(60, 64, 67, 0.15);\n",
              "      fill: #174EA6;\n",
              "    }\n",
              "\n",
              "    [theme=dark] .colab-df-convert {\n",
              "      background-color: #3B4455;\n",
              "      fill: #D2E3FC;\n",
              "    }\n",
              "\n",
              "    [theme=dark] .colab-df-convert:hover {\n",
              "      background-color: #434B5C;\n",
              "      box-shadow: 0px 1px 3px 1px rgba(0, 0, 0, 0.15);\n",
              "      filter: drop-shadow(0px 1px 2px rgba(0, 0, 0, 0.3));\n",
              "      fill: #FFFFFF;\n",
              "    }\n",
              "  </style>\n",
              "\n",
              "      <script>\n",
              "        const buttonEl =\n",
              "          document.querySelector('#df-ccac4db4-62a7-4eff-b899-c040667725e8 button.colab-df-convert');\n",
              "        buttonEl.style.display =\n",
              "          google.colab.kernel.accessAllowed ? 'block' : 'none';\n",
              "\n",
              "        async function convertToInteractive(key) {\n",
              "          const element = document.querySelector('#df-ccac4db4-62a7-4eff-b899-c040667725e8');\n",
              "          const dataTable =\n",
              "            await google.colab.kernel.invokeFunction('convertToInteractive',\n",
              "                                                     [key], {});\n",
              "          if (!dataTable) return;\n",
              "\n",
              "          const docLinkHtml = 'Like what you see? Visit the ' +\n",
              "            '<a target=\"_blank\" href=https://colab.research.google.com/notebooks/data_table.ipynb>data table notebook</a>'\n",
              "            + ' to learn more about interactive tables.';\n",
              "          element.innerHTML = '';\n",
              "          dataTable['output_type'] = 'display_data';\n",
              "          await google.colab.output.renderOutput(dataTable, element);\n",
              "          const docLink = document.createElement('div');\n",
              "          docLink.innerHTML = docLinkHtml;\n",
              "          element.appendChild(docLink);\n",
              "        }\n",
              "      </script>\n",
              "    </div>\n",
              "  </div>\n",
              "  "
            ],
            "text/plain": [
              "         userId  movieId  rating  movie_idx\n",
              "0          3863        1    4.00         10\n",
              "1          3863        2    3.00        125\n",
              "2          3863        5    3.00        359\n",
              "3          3863        6    3.00        104\n",
              "4          3863       10    4.00         68\n",
              "...         ...      ...     ...        ...\n",
              "1982713    3457    74458    3.50        846\n",
              "1982714    3457    78499    4.00        860\n",
              "1982715    3457    79132    4.50        287\n",
              "1982716    3457    80463    4.00        954\n",
              "1982717    3457    81591    4.00        950\n",
              "\n",
              "[1982718 rows x 4 columns]"
            ]
          },
          "metadata": {}
        }
      ],
      "source": [
        "BASE_PATH = '/content/drive/MyDrive/ColabNotebooks/ML/Recommend/output/'\n",
        "#df = pd.read_csv(BASE_PATH+'edited_rating.csv')\n",
        "df = pd.read_csv(BASE_PATH+'very_small_rating.csv')\n",
        "pd.options.display.float_format = '{:.2f}'.format\n",
        "df.info()\n",
        "display(df.describe())\n",
        "display(df)"
      ]
    },
    {
      "cell_type": "code",
      "execution_count": 3,
      "metadata": {
        "id": "QonNacnOAp8s"
      },
      "outputs": [],
      "source": [
        "N = df.userId.max() + 1 # number of users\n",
        "M = df.movie_idx.max() + 1 # number of movies"
      ]
    },
    {
      "cell_type": "code",
      "execution_count": 4,
      "metadata": {
        "id": "Oz5FQOgmA0SR"
      },
      "outputs": [],
      "source": [
        "# split into train and test\n",
        "#df = df.sample(frac=0.1, random_state=42)\n",
        "df_train, df_test = train_test_split(df, train_size=0.8, random_state=0)"
      ]
    },
    {
      "cell_type": "code",
      "source": [
        "# initialize variables\n",
        "K = 10 # latent dimensionality\n",
        "mu = df_train.rating.mean()\n",
        "epochs = 20\n",
        "reg = 0. # regularization penalty"
      ],
      "metadata": {
        "id": "HLGm4NuaYfB2"
      },
      "execution_count": 5,
      "outputs": []
    },
    {
      "cell_type": "code",
      "execution_count": 6,
      "metadata": {
        "id": "OP3gZ4wSPs0K",
        "colab": {
          "base_uri": "https://localhost:8080/",
          "height": 1000
        },
        "outputId": "6f86f78a-3c07-435e-be62-3df71786d8f3"
      },
      "outputs": [
        {
          "output_type": "stream",
          "name": "stdout",
          "text": [
            "Model: \"model\"\n",
            "__________________________________________________________________________________________________\n",
            " Layer (type)                   Output Shape         Param #     Connected to                     \n",
            "==================================================================================================\n",
            " input_1 (InputLayer)           [(None, 1)]          0           []                               \n",
            "                                                                                                  \n",
            " input_2 (InputLayer)           [(None, 1)]          0           []                               \n",
            "                                                                                                  \n",
            " embedding (Embedding)          (None, 1, 10)        40000       ['input_1[0][0]']                \n",
            "                                                                                                  \n",
            " embedding_1 (Embedding)        (None, 1, 10)        10000       ['input_2[0][0]']                \n",
            "                                                                                                  \n",
            " dot (Dot)                      (None, 1, 1)         0           ['embedding[0][0]',              \n",
            "                                                                  'embedding_1[0][0]']            \n",
            "                                                                                                  \n",
            " embedding_2 (Embedding)        (None, 1, 1)         4000        ['input_1[0][0]']                \n",
            "                                                                                                  \n",
            " embedding_3 (Embedding)        (None, 1, 1)         1000        ['input_2[0][0]']                \n",
            "                                                                                                  \n",
            " add (Add)                      (None, 1, 1)         0           ['dot[0][0]',                    \n",
            "                                                                  'embedding_2[0][0]',            \n",
            "                                                                  'embedding_3[0][0]']            \n",
            "                                                                                                  \n",
            " flatten (Flatten)              (None, 1)            0           ['add[0][0]']                    \n",
            "                                                                                                  \n",
            "==================================================================================================\n",
            "Total params: 55,000\n",
            "Trainable params: 55,000\n",
            "Non-trainable params: 0\n",
            "__________________________________________________________________________________________________\n"
          ]
        },
        {
          "output_type": "execute_result",
          "data": {
            "image/png": "[encoded data removed]",
            "text/plain": [
              "<IPython.core.display.Image object>"
            ]
          },
          "metadata": {},
          "execution_count": 6
        }
      ],
      "source": [
        "# keras model\n",
        "u = tf.keras.layers.Input(shape=(1,))\n",
        "m = tf.keras.layers.Input(shape=(1,))\n",
        "u_embedding = tf.keras.layers.Embedding(N, K, \n",
        "                                        embeddings_regularizer=tf.keras.regularizers.l2(reg))(u) # (N, 1, K)\n",
        "m_embedding = tf.keras.layers.Embedding(M, K, \n",
        "                                        embeddings_regularizer=tf.keras.regularizers.l2(reg))(m) # (N, 1, K)\n",
        "\n",
        "u_bias = tf.keras.layers.Embedding(N, 1, \n",
        "                                   embeddings_regularizer=tf.keras.regularizers.l2(reg))(u) # (N, 1, 1)\n",
        "m_bias = tf.keras.layers.Embedding(M, 1, \n",
        "                                   embeddings_regularizer=tf.keras.regularizers.l2(reg))(m) # (N, 1, 1)\n",
        "\n",
        "x = tf.keras.layers.Dot(axes=2)([u_embedding, m_embedding]) # (N, 1, 1)\n",
        "x = tf.keras.layers.Add()([x, u_bias, m_bias])\n",
        "x = tf.keras.layers.Flatten()(x) # (N, 1)\n",
        "\n",
        "model = tf.keras.models.Model(inputs=[u, m], outputs=x)\n",
        "model.compile(\n",
        "  loss='mse',\n",
        "  optimizer=tf.keras.optimizers.SGD(learning_rate=0.08, momentum=0.9),\n",
        "  metrics=['mse'],\n",
        ")\n",
        "model.summary()\n",
        "tf.keras.utils.plot_model(model, show_shapes=True)"
      ]
    },
    {
      "cell_type": "code",
      "execution_count": 7,
      "metadata": {
        "colab": {
          "base_uri": "https://localhost:8080/"
        },
        "id": "q-FSWbqHA5Y6",
        "outputId": "3b943fbe-e1c6-4cf0-bf87-e86670f67876"
      },
      "outputs": [
        {
          "output_type": "stream",
          "name": "stdout",
          "text": [
            "Epoch 1/20\n",
            "12392/12392 [==============================] - 54s 4ms/step - loss: 0.6913 - mse: 0.6913 - val_loss: 0.6720 - val_mse: 0.6720\n",
            "Epoch 2/20\n",
            "12392/12392 [==============================] - 52s 4ms/step - loss: 0.6693 - mse: 0.6693 - val_loss: 0.6671 - val_mse: 0.6671\n",
            "Epoch 3/20\n",
            "12392/12392 [==============================] - 52s 4ms/step - loss: 0.6402 - mse: 0.6402 - val_loss: 0.6141 - val_mse: 0.6141\n",
            "Epoch 4/20\n",
            "12392/12392 [==============================] - 52s 4ms/step - loss: 0.5926 - mse: 0.5926 - val_loss: 0.5845 - val_mse: 0.5845\n",
            "Epoch 5/20\n",
            "12392/12392 [==============================] - 52s 4ms/step - loss: 0.5646 - mse: 0.5646 - val_loss: 0.5646 - val_mse: 0.5646\n",
            "Epoch 6/20\n",
            "12392/12392 [==============================] - 52s 4ms/step - loss: 0.5428 - mse: 0.5428 - val_loss: 0.5521 - val_mse: 0.5521\n",
            "Epoch 7/20\n",
            "12392/12392 [==============================] - 52s 4ms/step - loss: 0.5300 - mse: 0.5300 - val_loss: 0.5468 - val_mse: 0.5468\n",
            "Epoch 8/20\n",
            "12392/12392 [==============================] - 51s 4ms/step - loss: 0.5235 - mse: 0.5235 - val_loss: 0.5439 - val_mse: 0.5439\n",
            "Epoch 9/20\n",
            "12392/12392 [==============================] - 52s 4ms/step - loss: 0.5201 - mse: 0.5201 - val_loss: 0.5417 - val_mse: 0.5417\n",
            "Epoch 10/20\n",
            "12392/12392 [==============================] - 52s 4ms/step - loss: 0.5182 - mse: 0.5182 - val_loss: 0.5411 - val_mse: 0.5411\n",
            "Epoch 11/20\n",
            "12392/12392 [==============================] - 52s 4ms/step - loss: 0.5171 - mse: 0.5171 - val_loss: 0.5407 - val_mse: 0.5407\n",
            "Epoch 12/20\n",
            "12392/12392 [==============================] - 52s 4ms/step - loss: 0.5164 - mse: 0.5164 - val_loss: 0.5403 - val_mse: 0.5403\n",
            "Epoch 13/20\n",
            "12392/12392 [==============================] - 52s 4ms/step - loss: 0.5160 - mse: 0.5160 - val_loss: 0.5399 - val_mse: 0.5399\n",
            "Epoch 14/20\n",
            "12392/12392 [==============================] - 52s 4ms/step - loss: 0.5156 - mse: 0.5156 - val_loss: 0.5398 - val_mse: 0.5398\n",
            "Epoch 15/20\n",
            "12392/12392 [==============================] - 52s 4ms/step - loss: 0.5154 - mse: 0.5154 - val_loss: 0.5394 - val_mse: 0.5394\n",
            "Epoch 16/20\n",
            "12392/12392 [==============================] - 52s 4ms/step - loss: 0.5152 - mse: 0.5152 - val_loss: 0.5395 - val_mse: 0.5395\n",
            "Epoch 17/20\n",
            "12392/12392 [==============================] - 53s 4ms/step - loss: 0.5150 - mse: 0.5150 - val_loss: 0.5397 - val_mse: 0.5397\n",
            "CPU times: user 17min 21s, sys: 2min 16s, total: 19min 38s\n",
            "Wall time: 14min 46s\n"
          ]
        }
      ],
      "source": [
        "%%time\n",
        "r = model.fit(\n",
        "  x=[df_train.userId.values, df_train.movie_idx.values],\n",
        "  y=df_train.rating.values - mu,\n",
        "  epochs=epochs,\n",
        "  batch_size=128,\n",
        "  validation_data=(\n",
        "    [df_test.userId.values, df_test.movie_idx.values],\n",
        "    df_test.rating.values - mu\n",
        "  ),\n",
        "  callbacks=[tf.keras.callbacks.EarlyStopping(patience=2, restore_best_weights=True)]\n",
        ")"
      ]
    },
    {
      "cell_type": "code",
      "execution_count": 8,
      "metadata": {
        "colab": {
          "base_uri": "https://localhost:8080/",
          "height": 269
        },
        "id": "RYEgOyfUIhvf",
        "outputId": "cca296ad-389b-4c32-c4ce-6737d8130454"
      },
      "outputs": [
        {
          "output_type": "display_data",
          "data": {
            "image/png": "[encoded data removed]",
            "text/plain": [
              "<Figure size 432x288 with 1 Axes>"
            ]
          },
          "metadata": {
            "needs_background": "light"
          }
        }
      ],
      "source": [
        "# plot losses\n",
        "plt.plot(r.history['loss'], label=\"train loss\")\n",
        "plt.plot(r.history['val_loss'], label=\"test loss\")\n",
        "plt.legend()\n",
        "plt.show()"
      ]
    },
    {
      "cell_type": "code",
      "source": [
        "# plot mse\n",
        "plt.plot(r.history['mse'], label=\"train mse\")\n",
        "plt.plot(r.history['val_mse'], label=\"test mse\")\n",
        "plt.legend()\n",
        "plt.show()"
      ],
      "metadata": {
        "id": "M0NDE1Csqy7c",
        "colab": {
          "base_uri": "https://localhost:8080/",
          "height": 269
        },
        "outputId": "6d6b1189-63ad-40da-901b-9d1281a276ce"
      },
      "execution_count": 9,
      "outputs": [
        {
          "output_type": "display_data",
          "data": {
            "image/png": "[encoded data removed]",
            "text/plain": [
              "<Figure size 432x288 with 1 Axes>"
            ]
          },
          "metadata": {
            "needs_background": "light"
          }
        }
      ]
    },
    {
      "cell_type": "code",
      "source": [
        ""
      ],
      "metadata": {
        "id": "MtFWlA3BuQek"
      },
      "execution_count": 9,
      "outputs": []
    }
  ],
  "metadata": {
    "colab": {
      "collapsed_sections": [],
      "name": "08.mf_keras.ipynb",
      "provenance": [],
      "authorship_tag": "ABX9TyPfZsgY82FZk1fJWToOCMsS",
      "include_colab_link": true
    },
    "kernelspec": {
      "display_name": "Python 3",
      "name": "python3"
    },
    "language_info": {
      "name": "python"
    },
    "accelerator": "GPU"
  },
  "nbformat": 4,
  "nbformat_minor": 0
}