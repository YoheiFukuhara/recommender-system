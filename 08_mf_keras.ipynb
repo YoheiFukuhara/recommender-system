{
  "cells": [
    {
      "cell_type": "markdown",
      "metadata": {
        "id": "view-in-github",
        "colab_type": "text"
      },
      "source": [
        "<a href=\"https://colab.research.google.com/github/YoheiFukuhara/recommender-system/blob/main/08_mf_keras.ipynb\" target=\"_parent\"><img src=\"https://colab.research.google.com/assets/colab-badge.svg\" alt=\"Open In Colab\"/></a>"
      ]
    },
    {
      "cell_type": "code",
      "execution_count": 1,
      "metadata": {
        "colab": {
          "base_uri": "https://localhost:8080/"
        },
        "id": "49XnsdD9AJDH",
        "outputId": "14430125-681d-42d7-b988-b9ad70cb41ba"
      },
      "outputs": [
        {
          "output_type": "stream",
          "name": "stdout",
          "text": [
            "Mounted at /content/drive\n"
          ]
        }
      ],
      "source": [
        "import pandas as pd\n",
        "from sklearn.model_selection import train_test_split\n",
        "import tensorflow as tf\n",
        "from google.colab import drive\n",
        "import matplotlib.pyplot as plt\n",
        "\n",
        "drive.mount('/content/drive')"
      ]
    },
    {
      "cell_type": "code",
      "execution_count": 2,
      "metadata": {
        "id": "cbwUPlckBA0A",
        "colab": {
          "base_uri": "https://localhost:8080/",
          "height": 898
        },
        "outputId": "0227af9d-dd1b-48d0-ad7c-c613e0b5ea96"
      },
      "outputs": [
        {
          "output_type": "stream",
          "name": "stdout",
          "text": [
            "<class 'pandas.core.frame.DataFrame'>\n",
            "RangeIndex: 1982718 entries, 0 to 1982717\n",
            "Data columns (total 4 columns):\n",
            " #   Column     Dtype  \n",
            "---  ------     -----  \n",
            " 0   userId     int64  \n",
            " 1   movieId    int64  \n",
            " 2   rating     float64\n",
            " 3   movie_idx  int64  \n",
            "dtypes: float64(1), int64(3)\n",
            "memory usage: 60.5 MB\n"
          ]
        },
        {
          "output_type": "display_data",
          "data": {
            "text/html": [
              "\n",
              "  <div id=\"df-851c58df-50cc-4180-b3a8-8b95807b1acb\">\n",
              "    <div class=\"colab-df-container\">\n",
              "      <div>\n",
              "<style scoped>\n",
              "    .dataframe tbody tr th:only-of-type {\n",
              "        vertical-align: middle;\n",
              "    }\n",
              "\n",
              "    .dataframe tbody tr th {\n",
              "        vertical-align: top;\n",
              "    }\n",
              "\n",
              "    .dataframe thead th {\n",
              "        text-align: right;\n",
              "    }\n",
              "</style>\n",
              "<table border=\"1\" class=\"dataframe\">\n",
              "  <thead>\n",
              "    <tr style=\"text-align: right;\">\n",
              "      <th></th>\n",
              "      <th>userId</th>\n",
              "      <th>movieId</th>\n",
              "      <th>rating</th>\n",
              "      <th>movie_idx</th>\n",
              "    </tr>\n",
              "  </thead>\n",
              "  <tbody>\n",
              "    <tr>\n",
              "      <th>count</th>\n",
              "      <td>1982718.00</td>\n",
              "      <td>1982718.00</td>\n",
              "      <td>1982718.00</td>\n",
              "      <td>1982718.00</td>\n",
              "    </tr>\n",
              "    <tr>\n",
              "      <th>mean</th>\n",
              "      <td>1796.93</td>\n",
              "      <td>5116.48</td>\n",
              "      <td>3.47</td>\n",
              "      <td>417.32</td>\n",
              "    </tr>\n",
              "    <tr>\n",
              "      <th>std</th>\n",
              "      <td>1164.18</td>\n",
              "      <td>11798.80</td>\n",
              "      <td>1.00</td>\n",
              "      <td>287.50</td>\n",
              "    </tr>\n",
              "    <tr>\n",
              "      <th>min</th>\n",
              "      <td>0.00</td>\n",
              "      <td>1.00</td>\n",
              "      <td>0.50</td>\n",
              "      <td>0.00</td>\n",
              "    </tr>\n",
              "    <tr>\n",
              "      <th>25%</th>\n",
              "      <td>765.00</td>\n",
              "      <td>1029.00</td>\n",
              "      <td>3.00</td>\n",
              "      <td>162.00</td>\n",
              "    </tr>\n",
              "    <tr>\n",
              "      <th>50%</th>\n",
              "      <td>1703.00</td>\n",
              "      <td>1997.00</td>\n",
              "      <td>3.50</td>\n",
              "      <td>379.00</td>\n",
              "    </tr>\n",
              "    <tr>\n",
              "      <th>75%</th>\n",
              "      <td>2776.00</td>\n",
              "      <td>3578.00</td>\n",
              "      <td>4.00</td>\n",
              "      <td>651.00</td>\n",
              "    </tr>\n",
              "    <tr>\n",
              "      <th>max</th>\n",
              "      <td>3999.00</td>\n",
              "      <td>81845.00</td>\n",
              "      <td>5.00</td>\n",
              "      <td>999.00</td>\n",
              "    </tr>\n",
              "  </tbody>\n",
              "</table>\n",
              "</div>\n",
              "      <button class=\"colab-df-convert\" onclick=\"convertToInteractive('df-851c58df-50cc-4180-b3a8-8b95807b1acb')\"\n",
              "              title=\"Convert this dataframe to an interactive table.\"\n",
              "              style=\"display:none;\">\n",
              "        \n",
              "  <svg xmlns=\"http://www.w3.org/2000/svg\" height=\"24px\"viewBox=\"0 0 24 24\"\n",
              "       width=\"24px\">\n",
              "    <path d=\"M0 0h24v24H0V0z\" fill=\"none\"/>\n",
              "    <path d=\"M18.56 5.44l.94 2.06.94-2.06 2.06-.94-2.06-.94-.94-2.06-.94 2.06-2.06.94zm-11 1L8.5 8.5l.94-2.06 2.06-.94-2.06-.94L8.5 2.5l-.94 2.06-2.06.94zm10 10l.94 2.06.94-2.06 2.06-.94-2.06-.94-.94-2.06-.94 2.06-2.06.94z\"/><path d=\"M17.41 7.96l-1.37-1.37c-.4-.4-.92-.59-1.43-.59-.52 0-1.04.2-1.43.59L10.3 9.45l-7.72 7.72c-.78.78-.78 2.05 0 2.83L4 21.41c.39.39.9.59 1.41.59.51 0 1.02-.2 1.41-.59l7.78-7.78 2.81-2.81c.8-.78.8-2.07 0-2.86zM5.41 20L4 18.59l7.72-7.72 1.47 1.35L5.41 20z\"/>\n",
              "  </svg>\n",
              "      </button>\n",
              "      \n",
              "  <style>\n",
              "    .colab-df-container {\n",
              "      display:flex;\n",
              "      flex-wrap:wrap;\n",
              "      gap: 12px;\n",
              "    }\n",
              "\n",
              "    .colab-df-convert {\n",
              "      background-color: #E8F0FE;\n",
              "      border: none;\n",
              "      border-radius: 50%;\n",
              "      cursor: pointer;\n",
              "      display: none;\n",
              "      fill: #1967D2;\n",
              "      height: 32px;\n",
              "      padding: 0 0 0 0;\n",
              "      width: 32px;\n",
              "    }\n",
              "\n",
              "    .colab-df-convert:hover {\n",
              "      background-color: #E2EBFA;\n",
              "      box-shadow: 0px 1px 2px rgba(60, 64, 67, 0.3), 0px 1px 3px 1px rgba(60, 64, 67, 0.15);\n",
              "      fill: #174EA6;\n",
              "    }\n",
              "\n",
              "    [theme=dark] .colab-df-convert {\n",
              "      background-color: #3B4455;\n",
              "      fill: #D2E3FC;\n",
              "    }\n",
              "\n",
              "    [theme=dark] .colab-df-convert:hover {\n",
              "      background-color: #434B5C;\n",
              "      box-shadow: 0px 1px 3px 1px rgba(0, 0, 0, 0.15);\n",
              "      filter: drop-shadow(0px 1px 2px rgba(0, 0, 0, 0.3));\n",
              "      fill: #FFFFFF;\n",
              "    }\n",
              "  </style>\n",
              "\n",
              "      <script>\n",
              "        const buttonEl =\n",
              "          document.querySelector('#df-851c58df-50cc-4180-b3a8-8b95807b1acb button.colab-df-convert');\n",
              "        buttonEl.style.display =\n",
              "          google.colab.kernel.accessAllowed ? 'block' : 'none';\n",
              "\n",
              "        async function convertToInteractive(key) {\n",
              "          const element = document.querySelector('#df-851c58df-50cc-4180-b3a8-8b95807b1acb');\n",
              "          const dataTable =\n",
              "            await google.colab.kernel.invokeFunction('convertToInteractive',\n",
              "                                                     [key], {});\n",
              "          if (!dataTable) return;\n",
              "\n",
              "          const docLinkHtml = 'Like what you see? Visit the ' +\n",
              "            '<a target=\"_blank\" href=https://colab.research.google.com/notebooks/data_table.ipynb>data table notebook</a>'\n",
              "            + ' to learn more about interactive tables.';\n",
              "          element.innerHTML = '';\n",
              "          dataTable['output_type'] = 'display_data';\n",
              "          await google.colab.output.renderOutput(dataTable, element);\n",
              "          const docLink = document.createElement('div');\n",
              "          docLink.innerHTML = docLinkHtml;\n",
              "          element.appendChild(docLink);\n",
              "        }\n",
              "      </script>\n",
              "    </div>\n",
              "  </div>\n",
              "  "
            ],
            "text/plain": [
              "          userId    movieId     rating  movie_idx\n",
              "count 1982718.00 1982718.00 1982718.00 1982718.00\n",
              "mean     1796.93    5116.48       3.47     417.32\n",
              "std      1164.18   11798.80       1.00     287.50\n",
              "min         0.00       1.00       0.50       0.00\n",
              "25%       765.00    1029.00       3.00     162.00\n",
              "50%      1703.00    1997.00       3.50     379.00\n",
              "75%      2776.00    3578.00       4.00     651.00\n",
              "max      3999.00   81845.00       5.00     999.00"
            ]
          },
          "metadata": {}
        },
        {
          "output_type": "display_data",
          "data": {
            "text/html": [
              "\n",
              "  <div id=\"df-a54e31c0-1c00-4169-b56f-a36627ccfb3e\">\n",
              "    <div class=\"colab-df-container\">\n",
              "      <div>\n",
              "<style scoped>\n",
              "    .dataframe tbody tr th:only-of-type {\n",
              "        vertical-align: middle;\n",
              "    }\n",
              "\n",
              "    .dataframe tbody tr th {\n",
              "        vertical-align: top;\n",
              "    }\n",
              "\n",
              "    .dataframe thead th {\n",
              "        text-align: right;\n",
              "    }\n",
              "</style>\n",
              "<table border=\"1\" class=\"dataframe\">\n",
              "  <thead>\n",
              "    <tr style=\"text-align: right;\">\n",
              "      <th></th>\n",
              "      <th>userId</th>\n",
              "      <th>movieId</th>\n",
              "      <th>rating</th>\n",
              "      <th>movie_idx</th>\n",
              "    </tr>\n",
              "  </thead>\n",
              "  <tbody>\n",
              "    <tr>\n",
              "      <th>0</th>\n",
              "      <td>3863</td>\n",
              "      <td>1</td>\n",
              "      <td>4.00</td>\n",
              "      <td>10</td>\n",
              "    </tr>\n",
              "    <tr>\n",
              "      <th>1</th>\n",
              "      <td>3863</td>\n",
              "      <td>2</td>\n",
              "      <td>3.00</td>\n",
              "      <td>125</td>\n",
              "    </tr>\n",
              "    <tr>\n",
              "      <th>2</th>\n",
              "      <td>3863</td>\n",
              "      <td>5</td>\n",
              "      <td>3.00</td>\n",
              "      <td>359</td>\n",
              "    </tr>\n",
              "    <tr>\n",
              "      <th>3</th>\n",
              "      <td>3863</td>\n",
              "      <td>6</td>\n",
              "      <td>3.00</td>\n",
              "      <td>104</td>\n",
              "    </tr>\n",
              "    <tr>\n",
              "      <th>4</th>\n",
              "      <td>3863</td>\n",
              "      <td>10</td>\n",
              "      <td>4.00</td>\n",
              "      <td>68</td>\n",
              "    </tr>\n",
              "    <tr>\n",
              "      <th>...</th>\n",
              "      <td>...</td>\n",
              "      <td>...</td>\n",
              "      <td>...</td>\n",
              "      <td>...</td>\n",
              "    </tr>\n",
              "    <tr>\n",
              "      <th>1982713</th>\n",
              "      <td>3457</td>\n",
              "      <td>74458</td>\n",
              "      <td>3.50</td>\n",
              "      <td>846</td>\n",
              "    </tr>\n",
              "    <tr>\n",
              "      <th>1982714</th>\n",
              "      <td>3457</td>\n",
              "      <td>78499</td>\n",
              "      <td>4.00</td>\n",
              "      <td>860</td>\n",
              "    </tr>\n",
              "    <tr>\n",
              "      <th>1982715</th>\n",
              "      <td>3457</td>\n",
              "      <td>79132</td>\n",
              "      <td>4.50</td>\n",
              "      <td>287</td>\n",
              "    </tr>\n",
              "    <tr>\n",
              "      <th>1982716</th>\n",
              "      <td>3457</td>\n",
              "      <td>80463</td>\n",
              "      <td>4.00</td>\n",
              "      <td>954</td>\n",
              "    </tr>\n",
              "    <tr>\n",
              "      <th>1982717</th>\n",
              "      <td>3457</td>\n",
              "      <td>81591</td>\n",
              "      <td>4.00</td>\n",
              "      <td>950</td>\n",
              "    </tr>\n",
              "  </tbody>\n",
              "</table>\n",
              "<p>1982718 rows × 4 columns</p>\n",
              "</div>\n",
              "      <button class=\"colab-df-convert\" onclick=\"convertToInteractive('df-a54e31c0-1c00-4169-b56f-a36627ccfb3e')\"\n",
              "              title=\"Convert this dataframe to an interactive table.\"\n",
              "              style=\"display:none;\">\n",
              "        \n",
              "  <svg xmlns=\"http://www.w3.org/2000/svg\" height=\"24px\"viewBox=\"0 0 24 24\"\n",
              "       width=\"24px\">\n",
              "    <path d=\"M0 0h24v24H0V0z\" fill=\"none\"/>\n",
              "    <path d=\"M18.56 5.44l.94 2.06.94-2.06 2.06-.94-2.06-.94-.94-2.06-.94 2.06-2.06.94zm-11 1L8.5 8.5l.94-2.06 2.06-.94-2.06-.94L8.5 2.5l-.94 2.06-2.06.94zm10 10l.94 2.06.94-2.06 2.06-.94-2.06-.94-.94-2.06-.94 2.06-2.06.94z\"/><path d=\"M17.41 7.96l-1.37-1.37c-.4-.4-.92-.59-1.43-.59-.52 0-1.04.2-1.43.59L10.3 9.45l-7.72 7.72c-.78.78-.78 2.05 0 2.83L4 21.41c.39.39.9.59 1.41.59.51 0 1.02-.2 1.41-.59l7.78-7.78 2.81-2.81c.8-.78.8-2.07 0-2.86zM5.41 20L4 18.59l7.72-7.72 1.47 1.35L5.41 20z\"/>\n",
              "  </svg>\n",
              "      </button>\n",
              "      \n",
              "  <style>\n",
              "    .colab-df-container {\n",
              "      display:flex;\n",
              "      flex-wrap:wrap;\n",
              "      gap: 12px;\n",
              "    }\n",
              "\n",
              "    .colab-df-convert {\n",
              "      background-color: #E8F0FE;\n",
              "      border: none;\n",
              "      border-radius: 50%;\n",
              "      cursor: pointer;\n",
              "      display: none;\n",
              "      fill: #1967D2;\n",
              "      height: 32px;\n",
              "      padding: 0 0 0 0;\n",
              "      width: 32px;\n",
              "    }\n",
              "\n",
              "    .colab-df-convert:hover {\n",
              "      background-color: #E2EBFA;\n",
              "      box-shadow: 0px 1px 2px rgba(60, 64, 67, 0.3), 0px 1px 3px 1px rgba(60, 64, 67, 0.15);\n",
              "      fill: #174EA6;\n",
              "    }\n",
              "\n",
              "    [theme=dark] .colab-df-convert {\n",
              "      background-color: #3B4455;\n",
              "      fill: #D2E3FC;\n",
              "    }\n",
              "\n",
              "    [theme=dark] .colab-df-convert:hover {\n",
              "      background-color: #434B5C;\n",
              "      box-shadow: 0px 1px 3px 1px rgba(0, 0, 0, 0.15);\n",
              "      filter: drop-shadow(0px 1px 2px rgba(0, 0, 0, 0.3));\n",
              "      fill: #FFFFFF;\n",
              "    }\n",
              "  </style>\n",
              "\n",
              "      <script>\n",
              "        const buttonEl =\n",
              "          document.querySelector('#df-a54e31c0-1c00-4169-b56f-a36627ccfb3e button.colab-df-convert');\n",
              "        buttonEl.style.display =\n",
              "          google.colab.kernel.accessAllowed ? 'block' : 'none';\n",
              "\n",
              "        async function convertToInteractive(key) {\n",
              "          const element = document.querySelector('#df-a54e31c0-1c00-4169-b56f-a36627ccfb3e');\n",
              "          const dataTable =\n",
              "            await google.colab.kernel.invokeFunction('convertToInteractive',\n",
              "                                                     [key], {});\n",
              "          if (!dataTable) return;\n",
              "\n",
              "          const docLinkHtml = 'Like what you see? Visit the ' +\n",
              "            '<a target=\"_blank\" href=https://colab.research.google.com/notebooks/data_table.ipynb>data table notebook</a>'\n",
              "            + ' to learn more about interactive tables.';\n",
              "          element.innerHTML = '';\n",
              "          dataTable['output_type'] = 'display_data';\n",
              "          await google.colab.output.renderOutput(dataTable, element);\n",
              "          const docLink = document.createElement('div');\n",
              "          docLink.innerHTML = docLinkHtml;\n",
              "          element.appendChild(docLink);\n",
              "        }\n",
              "      </script>\n",
              "    </div>\n",
              "  </div>\n",
              "  "
            ],
            "text/plain": [
              "         userId  movieId  rating  movie_idx\n",
              "0          3863        1    4.00         10\n",
              "1          3863        2    3.00        125\n",
              "2          3863        5    3.00        359\n",
              "3          3863        6    3.00        104\n",
              "4          3863       10    4.00         68\n",
              "...         ...      ...     ...        ...\n",
              "1982713    3457    74458    3.50        846\n",
              "1982714    3457    78499    4.00        860\n",
              "1982715    3457    79132    4.50        287\n",
              "1982716    3457    80463    4.00        954\n",
              "1982717    3457    81591    4.00        950\n",
              "\n",
              "[1982718 rows x 4 columns]"
            ]
          },
          "metadata": {}
        }
      ],
      "source": [
        "BASE_PATH = '/content/drive/MyDrive/ColabNotebooks/ML/Recommend/output/'\n",
        "#df = pd.read_csv(BASE_PATH+'edited_rating.csv')\n",
        "df = pd.read_csv(BASE_PATH+'very_small_rating.csv')\n",
        "pd.options.display.float_format = '{:.2f}'.format\n",
        "df.info()\n",
        "display(df.describe())\n",
        "display(df)"
      ]
    },
    {
      "cell_type": "code",
      "execution_count": 3,
      "metadata": {
        "id": "QonNacnOAp8s"
      },
      "outputs": [],
      "source": [
        "N = df.userId.max() + 1 # number of users\n",
        "M = df.movie_idx.max() + 1 # number of movies"
      ]
    },
    {
      "cell_type": "code",
      "execution_count": 4,
      "metadata": {
        "id": "Oz5FQOgmA0SR"
      },
      "outputs": [],
      "source": [
        "# split into train and test\n",
        "#df = df.sample(frac=0.1, random_state=42)\n",
        "df_train, df_test = train_test_split(df, train_size=0.8, random_state=0)"
      ]
    },
    {
      "cell_type": "code",
      "source": [
        "# initialize variables\n",
        "K = 10 # latent dimensionality\n",
        "mu = df_train.rating.mean()\n",
        "epochs = 15\n",
        "reg = 0. # regularization penalty"
      ],
      "metadata": {
        "id": "HLGm4NuaYfB2"
      },
      "execution_count": 5,
      "outputs": []
    },
    {
      "cell_type": "code",
      "execution_count": 6,
      "metadata": {
        "id": "OP3gZ4wSPs0K",
        "colab": {
          "base_uri": "https://localhost:8080/",
          "height": 1000
        },
        "outputId": "32184f4e-2957-40dd-a9b1-b8ab66cc6374"
      },
      "outputs": [
        {
          "output_type": "stream",
          "name": "stdout",
          "text": [
            "Model: \"model\"\n",
            "__________________________________________________________________________________________________\n",
            " Layer (type)                   Output Shape         Param #     Connected to                     \n",
            "==================================================================================================\n",
            " input_1 (InputLayer)           [(None, 1)]          0           []                               \n",
            "                                                                                                  \n",
            " input_2 (InputLayer)           [(None, 1)]          0           []                               \n",
            "                                                                                                  \n",
            " embedding (Embedding)          (None, 1, 10)        40000       ['input_1[0][0]']                \n",
            "                                                                                                  \n",
            " embedding_1 (Embedding)        (None, 1, 10)        10000       ['input_2[0][0]']                \n",
            "                                                                                                  \n",
            " dot (Dot)                      (None, 1, 1)         0           ['embedding[0][0]',              \n",
            "                                                                  'embedding_1[0][0]']            \n",
            "                                                                                                  \n",
            " embedding_2 (Embedding)        (None, 1, 1)         4000        ['input_1[0][0]']                \n",
            "                                                                                                  \n",
            " embedding_3 (Embedding)        (None, 1, 1)         1000        ['input_2[0][0]']                \n",
            "                                                                                                  \n",
            " add (Add)                      (None, 1, 1)         0           ['dot[0][0]',                    \n",
            "                                                                  'embedding_2[0][0]',            \n",
            "                                                                  'embedding_3[0][0]']            \n",
            "                                                                                                  \n",
            " flatten (Flatten)              (None, 1)            0           ['add[0][0]']                    \n",
            "                                                                                                  \n",
            "==================================================================================================\n",
            "Total params: 55,000\n",
            "Trainable params: 55,000\n",
            "Non-trainable params: 0\n",
            "__________________________________________________________________________________________________\n"
          ]
        },
        {
          "output_type": "execute_result",
          "data": {
            "image/png": "[encoded data removed]",
            "text/plain": [
              "<IPython.core.display.Image object>"
            ]
          },
          "metadata": {},
          "execution_count": 6
        }
      ],
      "source": [
        "# keras model\n",
        "u = tf.keras.layers.Input(shape=(1,))\n",
        "m = tf.keras.layers.Input(shape=(1,))\n",
        "u_embedding = tf.keras.layers.Embedding(N, K, \n",
        "                                        embeddings_regularizer=tf.keras.regularizers.l2(reg))(u) # (N, 1, K)\n",
        "m_embedding = tf.keras.layers.Embedding(M, K, \n",
        "                                        embeddings_regularizer=tf.keras.regularizers.l2(reg))(m) # (N, 1, K)\n",
        "\n",
        "u_bias = tf.keras.layers.Embedding(N, 1, \n",
        "                                   embeddings_regularizer=tf.keras.regularizers.l2(reg))(u) # (N, 1, 1)\n",
        "m_bias = tf.keras.layers.Embedding(M, 1, \n",
        "                                   embeddings_regularizer=tf.keras.regularizers.l2(reg))(m) # (N, 1, 1)\n",
        "\n",
        "x = tf.keras.layers.Dot(axes=2)([u_embedding, m_embedding]) # (N, 1, 1)\n",
        "x = tf.keras.layers.Add()([x, u_bias, m_bias])\n",
        "x = tf.keras.layers.Flatten()(x) # (N, 1)\n",
        "\n",
        "model = tf.keras.models.Model(inputs=[u, m], outputs=x)\n",
        "model.compile(\n",
        "  loss='mse',\n",
        "  optimizer=tf.keras.optimizers.SGD(learning_rate=0.08, momentum=0.9),\n",
        "  metrics=['mse'],\n",
        ")\n",
        "model.summary()\n",
        "tf.keras.utils.plot_model(model, show_shapes=True)"
      ]
    },
    {
      "cell_type": "code",
      "execution_count": 7,
      "metadata": {
        "colab": {
          "base_uri": "https://localhost:8080/"
        },
        "id": "q-FSWbqHA5Y6",
        "outputId": "ebe850e6-51a5-42a5-ad79-72418e7c7f5e"
      },
      "outputs": [
        {
          "output_type": "stream",
          "name": "stdout",
          "text": [
            "Epoch 1/15\n",
            "12392/12392 [==============================] - 60s 5ms/step - loss: 0.6914 - mse: 0.6914 - val_loss: 0.6725 - val_mse: 0.6725\n",
            "Epoch 2/15\n",
            "12392/12392 [==============================] - 51s 4ms/step - loss: 0.6682 - mse: 0.6682 - val_loss: 0.6622 - val_mse: 0.6622\n",
            "Epoch 3/15\n",
            "12392/12392 [==============================] - 51s 4ms/step - loss: 0.6351 - mse: 0.6351 - val_loss: 0.6176 - val_mse: 0.6176\n",
            "Epoch 4/15\n",
            "12392/12392 [==============================] - 51s 4ms/step - loss: 0.5978 - mse: 0.5978 - val_loss: 0.5865 - val_mse: 0.5865\n",
            "Epoch 5/15\n",
            "12392/12392 [==============================] - 51s 4ms/step - loss: 0.5642 - mse: 0.5642 - val_loss: 0.5632 - val_mse: 0.5632\n",
            "Epoch 6/15\n",
            "12392/12392 [==============================] - 51s 4ms/step - loss: 0.5412 - mse: 0.5412 - val_loss: 0.5508 - val_mse: 0.5508\n",
            "Epoch 7/15\n",
            "12392/12392 [==============================] - 56s 5ms/step - loss: 0.5282 - mse: 0.5282 - val_loss: 0.5457 - val_mse: 0.5457\n",
            "Epoch 8/15\n",
            "12392/12392 [==============================] - 51s 4ms/step - loss: 0.5221 - mse: 0.5221 - val_loss: 0.5430 - val_mse: 0.5430\n",
            "Epoch 9/15\n",
            "12392/12392 [==============================] - 51s 4ms/step - loss: 0.5194 - mse: 0.5194 - val_loss: 0.5413 - val_mse: 0.5413\n",
            "Epoch 10/15\n",
            "12392/12392 [==============================] - 51s 4ms/step - loss: 0.5177 - mse: 0.5177 - val_loss: 0.5402 - val_mse: 0.5402\n",
            "Epoch 11/15\n",
            "12392/12392 [==============================] - 52s 4ms/step - loss: 0.5168 - mse: 0.5168 - val_loss: 0.5399 - val_mse: 0.5399\n",
            "Epoch 12/15\n",
            "12392/12392 [==============================] - 52s 4ms/step - loss: 0.5160 - mse: 0.5160 - val_loss: 0.5396 - val_mse: 0.5396\n",
            "Epoch 13/15\n",
            "12392/12392 [==============================] - 51s 4ms/step - loss: 0.5158 - mse: 0.5158 - val_loss: 0.5397 - val_mse: 0.5397\n",
            "Epoch 14/15\n",
            "12392/12392 [==============================] - 51s 4ms/step - loss: 0.5154 - mse: 0.5154 - val_loss: 0.5395 - val_mse: 0.5395\n",
            "Epoch 15/15\n",
            "12392/12392 [==============================] - 51s 4ms/step - loss: 0.5151 - mse: 0.5151 - val_loss: 0.5395 - val_mse: 0.5395\n",
            "CPU times: user 15min 5s, sys: 2min 1s, total: 17min 7s\n",
            "Wall time: 13min 23s\n"
          ]
        }
      ],
      "source": [
        "%%time\n",
        "r = model.fit(\n",
        "  x=[df_train.userId.values, df_train.movie_idx.values],\n",
        "  y=df_train.rating.values - mu,\n",
        "  epochs=epochs,\n",
        "  batch_size=128,\n",
        "  validation_data=(\n",
        "    [df_test.userId.values, df_test.movie_idx.values],\n",
        "    df_test.rating.values - mu\n",
        "  ),\n",
        "  callbacks=[tf.keras.callbacks.EarlyStopping(patience=2, restore_best_weights=True)]\n",
        ")"
      ]
    },
    {
      "cell_type": "code",
      "execution_count": 8,
      "metadata": {
        "colab": {
          "base_uri": "https://localhost:8080/",
          "height": 269
        },
        "id": "RYEgOyfUIhvf",
        "outputId": "36fd803e-de6b-41aa-9984-fa8cb43a5256"
      },
      "outputs": [
        {
          "output_type": "display_data",
          "data": {
            "image/png": "[encoded data removed]",
            "text/plain": [
              "<Figure size 432x288 with 1 Axes>"
            ]
          },
          "metadata": {
            "needs_background": "light"
          }
        }
      ],
      "source": [
        "# plot losses\n",
        "plt.plot(r.history['loss'], label=\"train loss\")\n",
        "plt.plot(r.history['val_loss'], label=\"test loss\")\n",
        "plt.legend()\n",
        "plt.show()"
      ]
    },
    {
      "cell_type": "code",
      "source": [
        "# plot mse\n",
        "plt.plot(r.history['mse'], label=\"train mse\")\n",
        "plt.plot(r.history['val_mse'], label=\"test mse\")\n",
        "plt.legend()\n",
        "plt.show()"
      ],
      "metadata": {
        "id": "M0NDE1Csqy7c",
        "colab": {
          "base_uri": "https://localhost:8080/",
          "height": 269
        },
        "outputId": "60d3ca5e-7200-4412-c66e-87dd09158467"
      },
      "execution_count": 9,
      "outputs": [
        {
          "output_type": "display_data",
          "data": {
            "image/png": "[encoded data removed]",
            "text/plain": [
              "<Figure size 432x288 with 1 Axes>"
            ]
          },
          "metadata": {
            "needs_background": "light"
          }
        }
      ]
    },
    {
      "cell_type": "code",
      "source": [
        ""
      ],
      "metadata": {
        "id": "MtFWlA3BuQek"
      },
      "execution_count": 9,
      "outputs": []
    }
  ],
  "metadata": {
    "colab": {
      "collapsed_sections": [],
      "name": "08.mf_keras.ipynb",
      "provenance": [],
      "authorship_tag": "ABX9TyN25eCAK7bTkj61xrrt9deM",
      "include_colab_link": true
    },
    "kernelspec": {
      "display_name": "Python 3",
      "name": "python3"
    },
    "language_info": {
      "name": "python"
    },
    "accelerator": "GPU"
  },
  "nbformat": 4,
  "nbformat_minor": 0
}